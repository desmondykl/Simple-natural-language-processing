{
 "cells": [
  {
   "cell_type": "code",
   "execution_count": 1,
   "metadata": {
    "_cell_guid": "b1076dfc-b9ad-4769-8c92-a6c4dae69d19",
    "_uuid": "8f2839f25d086af736a60e9eeb907d3b93b6e0e5",
    "execution": {
     "iopub.execute_input": "2020-11-01T03:51:12.911753Z",
     "iopub.status.busy": "2020-11-01T03:51:12.910773Z",
     "iopub.status.idle": "2020-11-01T03:51:12.919226Z",
     "shell.execute_reply": "2020-11-01T03:51:12.920009Z"
    },
    "papermill": {
     "duration": 0.059626,
     "end_time": "2020-11-01T03:51:12.920203",
     "exception": false,
     "start_time": "2020-11-01T03:51:12.860577",
     "status": "completed"
    },
    "tags": []
   },
   "outputs": [
    {
     "name": "stdout",
     "output_type": "stream",
     "text": [
      "/kaggle/input/domaindocument/domainDocument.xlsx\n",
      "/kaggle/input/new-iphone11review/iphone11_review.csv\n"
     ]
    }
   ],
   "source": [
    "# This Python 3 environment comes with many helpful analytics libraries installed\n",
    "# It is defined by the kaggle/python Docker image: https://github.com/kaggle/docker-python\n",
    "# For example, here's several helpful packages to load\n",
    "\n",
    "import numpy as np # linear algebra\n",
    "import pandas as pd # data processing, CSV file I/O (e.g. pd.read_csv)\n",
    "\n",
    "# Input data files are available in the read-only \"../input/\" directory\n",
    "# For example, running this (by clicking run or pressing Shift+Enter) will list all files under the input directory\n",
    "\n",
    "import os\n",
    "for dirname, _, filenames in os.walk('/kaggle/input'):\n",
    "    for filename in filenames:\n",
    "        print(os.path.join(dirname, filename))\n",
    "\n",
    "# You can write up to 5GB to the current directory (/kaggle/working/) that gets preserved as output when you create a version using \"Save & Run All\" \n",
    "# You can also write temporary files to /kaggle/temp/, but they won't be saved outside of the current session"
   ]
  },
  {
   "cell_type": "code",
   "execution_count": 2,
   "metadata": {
    "execution": {
     "iopub.execute_input": "2020-11-01T03:51:13.010016Z",
     "iopub.status.busy": "2020-11-01T03:51:13.009213Z",
     "iopub.status.idle": "2020-11-01T03:51:23.582752Z",
     "shell.execute_reply": "2020-11-01T03:51:23.581954Z"
    },
    "papermill": {
     "duration": 10.62069,
     "end_time": "2020-11-01T03:51:23.582887",
     "exception": false,
     "start_time": "2020-11-01T03:51:12.962197",
     "status": "completed"
    },
    "tags": []
   },
   "outputs": [
    {
     "name": "stdout",
     "output_type": "stream",
     "text": [
      "Collecting pyspellchecker\r\n",
      "  Downloading pyspellchecker-0.5.5-py2.py3-none-any.whl (1.9 MB)\r\n",
      "\u001b[K     |████████████████████████████████| 1.9 MB 2.8 MB/s \r\n",
      "\u001b[?25hInstalling collected packages: pyspellchecker\r\n",
      "Successfully installed pyspellchecker-0.5.5\r\n"
     ]
    }
   ],
   "source": [
    "!pip install pyspellchecker"
   ]
  },
  {
   "cell_type": "code",
   "execution_count": 3,
   "metadata": {
    "_cell_guid": "79c7e3d0-c299-4dcb-8224-4455121ee9b0",
    "_uuid": "d629ff2d2480ee46fbb7e2d37f6b5fab8052498a",
    "execution": {
     "iopub.execute_input": "2020-11-01T03:51:23.684574Z",
     "iopub.status.busy": "2020-11-01T03:51:23.683795Z",
     "iopub.status.idle": "2020-11-01T03:51:37.423913Z",
     "shell.execute_reply": "2020-11-01T03:51:37.423041Z"
    },
    "papermill": {
     "duration": 13.796177,
     "end_time": "2020-11-01T03:51:37.424048",
     "exception": false,
     "start_time": "2020-11-01T03:51:23.627871",
     "status": "completed"
    },
    "tags": []
   },
   "outputs": [
    {
     "name": "stdout",
     "output_type": "stream",
     "text": [
      "*** Introductory Examples for the NLTK Book ***\n",
      "Loading text1, ..., text9 and sent1, ..., sent9\n",
      "Type the name of the text or sentence to view it.\n",
      "Type: 'texts()' or 'sents()' to list the materials.\n",
      "text1: Moby Dick by Herman Melville 1851\n",
      "text2: Sense and Sensibility by Jane Austen 1811\n",
      "text3: The Book of Genesis\n",
      "text4: Inaugural Address Corpus\n",
      "text5: Chat Corpus\n",
      "text6: Monty Python and the Holy Grail\n",
      "text7: Wall Street Journal\n",
      "text8: Personals Corpus\n",
      "text9: The Man Who Was Thursday by G . K . Chesterton 1908\n"
     ]
    },
    {
     "name": "stderr",
     "output_type": "stream",
     "text": [
      "/opt/conda/lib/python3.7/site-packages/nltk/twitter/__init__.py:20: UserWarning: The twython library has not been installed. Some functionality from the twitter package will not be available.\n",
      "  warnings.warn(\"The twython library has not been installed. \"\n"
     ]
    }
   ],
   "source": [
    "#basic\n",
    "import numpy as np\n",
    "import pandas as pd\n",
    "import seaborn as sn\n",
    "import matplotlib.pyplot as plt\n",
    "import csv\n",
    "\n",
    "# Importing library\n",
    "#nltk.download()\n",
    "import sys\n",
    "from urllib.request import Request, urlopen\n",
    "from bs4 import BeautifulSoup\n",
    "import nltk\n",
    "from nltk.tokenize import RegexpTokenizer,word_tokenize, sent_tokenize \n",
    "from nltk.book import *\n",
    "from nltk.stem import *\n",
    "from nltk.stem import WordNetLemmatizer,PorterStemmer\n",
    "from nltk.corpus import stopwords\n",
    "from nltk.sentiment.vader import SentimentIntensityAnalyzer\n",
    "\n",
    "import re\n",
    "import string\n",
    "import random\n",
    "import spacy\n",
    "from collections import Counter\n",
    "\n",
    "from sklearn.metrics import confusion_matrix\n",
    "from sklearn.metrics import f1_score, accuracy_score\n",
    "\n",
    "from textblob import TextBlob\n",
    "from spellchecker import SpellChecker"
   ]
  },
  {
   "cell_type": "markdown",
   "metadata": {
    "papermill": {
     "duration": 0.047812,
     "end_time": "2020-11-01T03:51:37.520002",
     "exception": false,
     "start_time": "2020-11-01T03:51:37.472190",
     "status": "completed"
    },
    "tags": []
   },
   "source": [
    "# Part 1: Domain Specific Dataset Analysis"
   ]
  },
  {
   "cell_type": "markdown",
   "metadata": {
    "papermill": {
     "duration": 0.048076,
     "end_time": "2020-11-01T03:51:37.616453",
     "exception": false,
     "start_time": "2020-11-01T03:51:37.568377",
     "status": "completed"
    },
    "tags": []
   },
   "source": [
    "## Initialize variable"
   ]
  },
  {
   "cell_type": "code",
   "execution_count": 4,
   "metadata": {
    "execution": {
     "iopub.execute_input": "2020-11-01T03:51:37.728825Z",
     "iopub.status.busy": "2020-11-01T03:51:37.727864Z",
     "iopub.status.idle": "2020-11-01T03:51:37.730517Z",
     "shell.execute_reply": "2020-11-01T03:51:37.731117Z"
    },
    "papermill": {
     "duration": 0.066144,
     "end_time": "2020-11-01T03:51:37.731280",
     "exception": false,
     "start_time": "2020-11-01T03:51:37.665136",
     "status": "completed"
    },
    "tags": []
   },
   "outputs": [],
   "source": [
    "pd.set_option('display.max_colwidth', None)\n",
    "TopicDomain = [\"Data Science\", \"Streaming Services\",\"History of Singapore\"]\n",
    "dataDict = {}\n",
    "dataDict[\"Data Science\"] = ''\n",
    "dataDict[\"Streaming Services\"] = ''\n",
    "dataDict[\"History of Singapore\"] = ''\n",
    "dataDictPD = {}\n",
    "dataDictPD[\"Data Science\"] = ''\n",
    "dataDictPD[\"Streaming Services\"] = ''\n",
    "dataDictPD[\"History of Singapore\"] = ''"
   ]
  },
  {
   "cell_type": "markdown",
   "metadata": {
    "papermill": {
     "duration": 0.047775,
     "end_time": "2020-11-01T03:51:37.827239",
     "exception": false,
     "start_time": "2020-11-01T03:51:37.779464",
     "status": "completed"
    },
    "tags": []
   },
   "source": [
    "## Process all the document links in excel file\n",
    "\n",
    "### Dataset that is going to be used in general\n",
    "\n",
    "1.\t**Data Science** is a field that uses various tools, processes, algorithms and machine learning principles to obtain knowledge and insights patterns from data. \n",
    "2.\t**Streaming Services** is a subscription-based service that offers online streaming of movies and television programs\n",
    "3.\t**History** of Singapore"
   ]
  },
  {
   "cell_type": "code",
   "execution_count": 5,
   "metadata": {
    "execution": {
     "iopub.execute_input": "2020-11-01T03:51:37.939191Z",
     "iopub.status.busy": "2020-11-01T03:51:37.933531Z",
     "iopub.status.idle": "2020-11-01T03:53:59.645406Z",
     "shell.execute_reply": "2020-11-01T03:53:59.644756Z"
    },
    "papermill": {
     "duration": 141.770328,
     "end_time": "2020-11-01T03:53:59.645562",
     "exception": false,
     "start_time": "2020-11-01T03:51:37.875234",
     "status": "completed"
    },
    "tags": []
   },
   "outputs": [
    {
     "name": "stdout",
     "output_type": "stream",
     "text": [
      "0. https://www.thoughtworks.com/insights/blog/coding-habits-data-scientists\n",
      "1. https://www.edureka.co/blog/what-is-data-science/\n",
      "2. https://www.cio.com/article/3263790/the-essential-skills-and-traits-of-an-expert-data-scientist.html\n",
      "3. https://www.oracle.com/sg/data-science/what-is-data-science.html\n",
      "4. https://www.forbes.com/sites/forbestechcouncil/2019/02/20/empowering-the-citizen-data-scientist/#56b558594861\n",
      "5. https://knowledge.wharton.upenn.edu/article/whats-driving-demand-data-scientist/\n",
      "6. https://www.analyticsinsight.net/the-rise-of-data-data-science-big-data-and-data-analytics-for-seamless-business-operations/\n",
      "7. https://www.forbes.com/sites/kenrickcai/2020/08/24/dataiku-ai-enablement-for-enterprises-startup-raises-100-million-series-d/#653af3b5d70e\n",
      "8. https://hbr.org/2020/02/are-your-companys-leaders-and-data-scientists-on-the-same-page\n",
      "9. https://www.businesstimes.com.sg/opinion/saving-the-environment-with-data-analytics\n",
      "10. https://theconversation.com/data-science-could-help-californians-battle-future-wildfires-126316\n",
      "11. https://www.forbes.com/sites/forbestechcouncil/2019/11/06/five-benefits-of-big-data-analytics-and-how-companies-can-get-started/#5d84399817e4\n",
      "12. https://www.todayonline.com/singapore/data-scientists-cyber-security-specialists-among-top-emerging-jobs-spore-linkedin-report\n",
      "13. https://economictimes.indiatimes.com/jobs/50000-data-science-ai-jobs-vacant-due-to-shortage-of-talent-report/articleshow/66230457.cms\n",
      "14. https://www.iotforall.com/data-science-healthcare\n",
      "15. https://www.fnlondon.com/articles/citi-combines-investment-banking-units-in-data-science-push-20200604\n",
      "16. https://www.whitehouse.gov/briefings-statements/call-action-tech-community-new-machine-readable-covid-19-dataset/\n",
      "17. https://towardsdatascience.com/the-9-concepts-and-formulas-in-probability-that-every-data-scientist-should-know-a0eb8d3ea8c4\n",
      "18. https://www.sciencemag.org/news/2020/06/mysterious-company-s-coronavirus-papers-top-medical-journals-may-be-unraveling\n",
      "19. https://www.channelnewsasia.com/news/singapore/roadmap-launched-with-jobs-in-cybersecurity-data-science-9891326\n",
      "0. https://sea.pcmag.com/internet/6121/the-best-video-streaming-services-for-2020\n",
      "1. https://sea.pcmag.com/video-streaming-services/38129/best-movie-streaming-services\n",
      "2. https://thesmartlocal.com/read/video-streaming-services-singapore/\n",
      "3. https://www.timeout.com/singapore/film/the-best-video-streaming-services-in-singapore-for-films-and-tv-series\n",
      "4. https://www.billboard.com/articles/business/streaming/9457753/consumers-streaming-music-discovery-music-360\n",
      "5. https://www.forbes.com/sites/advisoruk/2020/09/25/tv-streaming-services-your-abc-of-whats-available/#4f3ff0e55f0b\n",
      "6. https://www.forbes.com/sites/jonathanberr/2020/09/30/netflix-youtube-amazon-rule-streaming/#20dff9f56234\n",
      "7. https://www.cnet.com/news/best-tv-streaming-service-for-cord-cutters-hulu-youtube-tv-sling-tv-fubo-tv-compared/\n",
      "8. https://www.elle.com/uk/life-and-culture/culture/g34139525/best-streaming-services/\n",
      "9. https://www.digitaltrends.com/movies/best-media-streaming-sites-services/\n",
      "10. https://www.tomsguide.com/us/best-streaming-video-services,review-2625.html\n",
      "11. https://www.techradar.com/sg/best/best-tv-streaming-service-cord-cutting-compare\n",
      "12. https://blog.seedly.sg/netflix-toggle-viu-starhub-go-singtel-cast-alternative-tv-subscription-plan-guide-platform/\n",
      "13. https://www.cnet.com/how-to/watch-free-movies-online-10-netflix-alternatives-that-will-keep-you-entertained/\n",
      "14. https://www.androidauthority.com/best-streaming-services-936623/\n",
      "15. https://www.forbes.com/sites/rachelsandler/2020/09/11/apple-will-allow-game-streaming-services-but-its-rules-are-still-restrictive/#47b6ee207406\n",
      "16. https://www.investors.com/news/technology/click/streaming-wars-fallacy-netflix-other-leaders-hold-strong/\n",
      "17. https://www.hollywoodreporter.com/live-feed/the-boys-mulan-break-netflix-stranglehold-on-streaming-top-10\n",
      "18. https://www.hollywoodreporter.com/live-feed/the-boys-mulan-break-netflix-stranglehold-on-streaming-top-10\n",
      "19. https://www.consumerreports.org/streaming-video-services/guide-to-streaming-video-services/\n",
      "0. https://www.visitsingapore.com/travel-guide-tips/about-singapore/\n",
      "1. https://www.britannica.com/place/Singapore/History\n",
      "2. https://www.guidemesingapore.com/business-guides/immigration/get-to-know-singapore/a-brief-history-of-singapore\n",
      "3. https://www.telegraph.co.uk/travel/discover-singapore/history-timeline/\n",
      "4. https://eresources.nlb.gov.sg/history\n",
      "5. https://eresources.nlb.gov.sg/history/events/dc1efe7a-8159-40b2-9244-cdb078755013\n",
      "6. https://www.bbc.com/news/world-asia-15971013\n",
      "7. https://www.channelnewsasia.com/news/singapore/going-beyond-1819-how-well-do-singaporeans-know-the-history-of-9945420\n",
      "8. https://www.nhb.gov.sg/nationalmuseum/our-exhibitions/exhibition-list/history-of-the-national-museum-of-singapore\n",
      "9. https://www.police.gov.sg/SPF200/Timeline/1820\n",
      "10. https://www.roots.gov.sg/learn/stories/a-fragment-of-history/story\n",
      "11. https://www.straitstimes.com/singapore/a-walk-down-spore-history\n",
      "12. https://www.hdb.gov.sg/cs/infoweb/about-us/history\n",
      "13. https://www.britishcouncil.sg/about/history\n",
      "14. https://www.nparks.gov.sg/-/media/nparks-real-content/learning/learning-journeys/guided-walks/diy-guided-walks/revisiting-history/diy-trail-guide--singapores-colonial-history.pdf?la=en&hash=F86F45C8A9180213598B1740FE7BA55E2CD6A47B\n",
      "15. https://www.sal.org.sg/Resources-Tools/Legal-Heritage/Legal-and-Constitutional-History-of-Singapore\n",
      "16. https://www.parliament.gov.sg/history/historical-development\n",
      "17. https://sg.usembassy.gov/our-relationship/policy-history/io/\n",
      "18. https://www.nas.gov.sg/archivesonline/policy_history/\n",
      "19. https://roadsandkingdoms.com/2019/a-history-of-singapore-in-10-dishes/\n"
     ]
    }
   ],
   "source": [
    "data = pd.read_excel(\"../input/domaindocument/domainDocument.xlsx\")\n",
    "for tpd in TopicDomain:\n",
    "    i = 0\n",
    "    for url in data[tpd]:\n",
    "        text = ''\n",
    "        print(str(i) + \". \"+url)\n",
    "        req = Request(url,headers = {\"User-Agent\": \"Mozilla/5.0\"})\n",
    "        html = urlopen(req).read()\n",
    "        soup = BeautifulSoup(html, features=\"html.parser\")\n",
    "        if (tpd=='Data Science'):\n",
    "            para = soup.find_all('pre')\n",
    "            for p in para:\n",
    "                text = p.getText()\n",
    "                lines = (line.strip() for line in text.splitlines())\n",
    "                # break multi-headlines into a line each\n",
    "                chunks = (phrase.strip() for line in lines for phrase in line.split(\"  \"))\n",
    "                # drop blank lines\n",
    "                text = '\\n'.join(chunk for chunk in chunks if chunk)\n",
    "                dataDict[tpd] = dataDict[tpd] + ' ' + text.replace('\\n', '. ')\n",
    "        for script in soup.find_all('span'):\n",
    "            script.extract()\n",
    "        para = soup.find_all('p')\n",
    "        for p in para:\n",
    "            s = p.getText()\n",
    "            slices = []\n",
    "            for match in re.finditer('\\w\\.\\w', s):\n",
    "                slices.append(match.start()+2)\n",
    "            slices.append(len(s))\n",
    "            offset = 0\n",
    "            subsentences = \"\"\n",
    "            for pos in sorted(slices):\n",
    "                subsent = s[offset:pos]\n",
    "                offset += len(subsent)\n",
    "                subsentences = subsentences + \" \"+ subsent\n",
    "            #print(subsentences)\n",
    "            text = text +' ' + subsentences\n",
    "        # break into lines and remove leading and trailing space on each\n",
    "        lines = (line.strip() for line in text.splitlines())\n",
    "        # break multi-headlines into a line each\n",
    "        chunks = (phrase.strip() for line in lines for phrase in line.split(\"  \"))\n",
    "        # drop blank lines\n",
    "        text = '\\n'.join(chunk for chunk in chunks if chunk)\n",
    "        dataDict[tpd] = dataDict[tpd] + ' ' + text\n",
    "        i = i+1\n",
    "        if i ==20 :\n",
    "            break"
   ]
  },
  {
   "cell_type": "markdown",
   "metadata": {
    "papermill": {
     "duration": 0.070419,
     "end_time": "2020-11-01T03:53:59.787881",
     "exception": false,
     "start_time": "2020-11-01T03:53:59.717462",
     "status": "completed"
    },
    "tags": []
   },
   "source": [
    "## For each Topic Domain perform Stemming and Tokenizing\n",
    "\n",
    "In the tokenization process, we will perform tokenization for all the text in our dataset. Tokenization are important as text needs to be split into smaller units such as words, punctuation, numbers before any processing can be done.\n",
    "Table 1 shows that the tokenizer is unable to correctly recognized the domain specific tokens. The tokenizer performed tokenization by splitting the text based on word boundaries. The major drawback of this is the real-world object, such as a person name and organization will not classified as a single token. This can result in the token having different meaning then expected. An example from Table 1, the text “Acorn TV” is split into 2 tokens (Acorn and TV). However, the word “Acorn” by itself has a different meaning as compared to “Acorn TV”.\n",
    "\n",
    "| Domain | Unexpected Tokens | Expected Tokens |\n",
    "| -- | -- | -- |\n",
    "| Data Science   | ' (' 'k−1' ') ' '×'  ' (' 'k−2'   ') '  |' (k−1) ' '×' ' (k−2) ' | \n",
    "| Streaming Services    | 'Acorn' 'TV', 'Amazon' 'Video'   |'Acorn TV' - is an American subscription video streaming service  ,'Amazon Video' - is an American Internet video owned by Amazon |\n",
    "| History of Singapore   | 'M' 'Veerasany,'Nagajyothi' 'Mahendran', 'Bak' 'Kut' 'Teh' | 'M Veerasamy', 'South India', 'Nagajyothi Mahendran', 'Bak Kut Teh'\n"
   ]
  },
  {
   "cell_type": "code",
   "execution_count": 6,
   "metadata": {
    "execution": {
     "iopub.execute_input": "2020-11-01T03:53:59.953637Z",
     "iopub.status.busy": "2020-11-01T03:53:59.952673Z",
     "iopub.status.idle": "2020-11-01T03:54:09.341056Z",
     "shell.execute_reply": "2020-11-01T03:54:09.340461Z"
    },
    "papermill": {
     "duration": 9.48263,
     "end_time": "2020-11-01T03:54:09.341191",
     "exception": false,
     "start_time": "2020-11-01T03:53:59.858561",
     "status": "completed"
    },
    "tags": []
   },
   "outputs": [
    {
     "data": {
      "image/png": "[encoded data removed]",
      "text/plain": [
       "<Figure size 432x288 with 1 Axes>"
      ]
     },
     "metadata": {
      "needs_background": "light"
     },
     "output_type": "display_data"
    },
    {
     "data": {
      "image/png": "[encoded data removed]",
      "text/plain": [
       "<Figure size 432x288 with 1 Axes>"
      ]
     },
     "metadata": {
      "needs_background": "light"
     },
     "output_type": "display_data"
    },
    {
     "data": {
      "image/png": "[encoded data removed]",
      "text/plain": [
       "<Figure size 432x288 with 1 Axes>"
      ]
     },
     "metadata": {
      "needs_background": "light"
     },
     "output_type": "display_data"
    },
    {
     "data": {
      "image/png": "[encoded data removed]",
      "text/plain": [
       "<Figure size 432x288 with 1 Axes>"
      ]
     },
     "metadata": {
      "needs_background": "light"
     },
     "output_type": "display_data"
    },
    {
     "data": {
      "image/png": "[encoded data removed]",
      "text/plain": [
       "<Figure size 432x288 with 1 Axes>"
      ]
     },
     "metadata": {
      "needs_background": "light"
     },
     "output_type": "display_data"
    },
    {
     "data": {
      "image/png": "[encoded data removed]",
      "text/plain": [
       "<Figure size 432x288 with 1 Axes>"
      ]
     },
     "metadata": {
      "needs_background": "light"
     },
     "output_type": "display_data"
    }
   ],
   "source": [
    "for tpd in TopicDomain:\n",
    "    # token\n",
    "    tokens = nltk.word_tokenize(dataDict[tpd])\n",
    "    tokensArr = np.array(tokens)\n",
    "    ## remove long link / may not need it\n",
    "    index = []\n",
    "    k = 0\n",
    "    for t in tokensArr:\n",
    "        if(len(t)>25):\n",
    "            index.append(k)\n",
    "        k = k +1\n",
    "    tokensArr = np.delete(tokensArr, index)\n",
    "\n",
    "    # stem\n",
    "    stemmer = PorterStemmer()\n",
    "    stem =[stemmer.stem(token) for token in tokensArr]\n",
    "    stemsArr = np.array(stem)\n",
    "        \n",
    "    x = ['Before Stemming', \"After Stemming\"]\n",
    "    y = [len(np.unique(tokensArr)),len(np.unique(stemsArr))]\n",
    "    fig = plt.figure()\n",
    "    ax = fig.add_axes([0,0,1,1])\n",
    "    ax.bar(x,y)\n",
    "    plt.title(\"Number of Distinct Tokens - \"+tpd)\n",
    "    plt.show()\n",
    "\n",
    "    token_df = pd.DataFrame(data=tokensArr, columns=[\"Word\"])\n",
    "    token_df['Number of Character'] = token_df.apply(lambda row: len(row.Word), axis = 1) \n",
    "    token_df = token_df.groupby(['Number of Character']).size().reset_index(name='Before Stemming')\n",
    "    \n",
    "    stem_df = pd.DataFrame(data=stemsArr, columns=[\"Word\"])\n",
    "    stem_df['Number of Character'] = stem_df.apply(lambda row: len(row.Word), axis = 1) \n",
    "    stem_df = stem_df.groupby(['Number of Character']).size().reset_index(name='After Stemming')\n",
    "    \n",
    "    df_merge_col = pd.merge(token_df, stem_df, on='Number of Character' , how='outer')\n",
    "    df_merge_col['Before Stemming'] = df_merge_col['Before Stemming'].fillna(0.0).astype(int)\n",
    "    df_merge_col['After Stemming'] = df_merge_col['After Stemming'].fillna(0.0).astype(int)\n",
    "    df_merge_col.plot(x=\"Number of Character\", y=[\"Before Stemming\", \"After Stemming\" ], kind=\"bar\")\n",
    "    plt.title(\"Length Distribution of Tokens - \" + tpd)\n",
    "    plt.ylabel(\"Number of Tokens of each Length\")\n",
    "    dataDictPD[tpd]=y"
   ]
  },
  {
   "cell_type": "markdown",
   "metadata": {
    "papermill": {
     "duration": 0.076616,
     "end_time": "2020-11-01T03:54:09.496521",
     "exception": false,
     "start_time": "2020-11-01T03:54:09.419905",
     "status": "completed"
    },
    "tags": []
   },
   "source": [
    "## Number of Distinct tokens for all 3 domain before and after stemming"
   ]
  },
  {
   "cell_type": "code",
   "execution_count": 7,
   "metadata": {
    "execution": {
     "iopub.execute_input": "2020-11-01T03:54:09.659152Z",
     "iopub.status.busy": "2020-11-01T03:54:09.658229Z",
     "iopub.status.idle": "2020-11-01T03:54:09.835221Z",
     "shell.execute_reply": "2020-11-01T03:54:09.834641Z"
    },
    "papermill": {
     "duration": 0.261429,
     "end_time": "2020-11-01T03:54:09.835376",
     "exception": false,
     "start_time": "2020-11-01T03:54:09.573947",
     "status": "completed"
    },
    "tags": []
   },
   "outputs": [
    {
     "data": {
      "text/plain": [
       "Text(0.5, 0, 'Topical Domain')"
      ]
     },
     "execution_count": 7,
     "metadata": {},
     "output_type": "execute_result"
    },
    {
     "data": {
      "image/png": "[encoded data removed]",
      "text/plain": [
       "<Figure size 432x288 with 1 Axes>"
      ]
     },
     "metadata": {
      "needs_background": "light"
     },
     "output_type": "display_data"
    }
   ],
   "source": [
    "df_data = pd.DataFrame.from_dict(dataDictPD,orient='index')\n",
    "df_data = df_data.rename(columns={0: \"Before Stemming\", 1: \"After Stemming\"})\n",
    "df_data.plot(kind=\"bar\",rot=0,title=\"Number Of Distinct Tokens\" )\n",
    "plt.ylabel('Number Of Token') \n",
    "plt.xlabel('Topical Domain')"
   ]
  },
  {
   "cell_type": "markdown",
   "metadata": {
    "papermill": {
     "duration": 0.078882,
     "end_time": "2020-11-01T03:54:09.992036",
     "exception": false,
     "start_time": "2020-11-01T03:54:09.913154",
     "status": "completed"
    },
    "tags": []
   },
   "source": [
    "## Sentence segmentation\n",
    "\n",
    "The library we used for to perform sentence segmentation will be sent_tokenize from NLTK.\n",
    "Figure 3 it shows that the distribution of the sentence length resembles a bell curve. The number of words in a sentence typically range around 15 to 25 words regardless of the topical domain. This suggest that when writing a sentences people tends to write around 20 words per sentences. This could be because longer sentences might be less readable while too many short sentences could create a clashing effect for the reader. \n",
    "Another important point to take note is there are sentences with around 100 words. This can be caused by sentences which does not have proper full stops."
   ]
  },
  {
   "cell_type": "code",
   "execution_count": 8,
   "metadata": {
    "execution": {
     "iopub.execute_input": "2020-11-01T03:54:10.168188Z",
     "iopub.status.busy": "2020-11-01T03:54:10.163017Z",
     "iopub.status.idle": "2020-11-01T03:54:12.027743Z",
     "shell.execute_reply": "2020-11-01T03:54:12.027116Z"
    },
    "papermill": {
     "duration": 1.957067,
     "end_time": "2020-11-01T03:54:12.027965",
     "exception": false,
     "start_time": "2020-11-01T03:54:10.070898",
     "status": "completed"
    },
    "tags": []
   },
   "outputs": [
    {
     "data": {
      "text/plain": [
       "Text(0.5, 1.0, 'Distribution Of The Sentence Length')"
      ]
     },
     "execution_count": 8,
     "metadata": {},
     "output_type": "execute_result"
    },
    {
     "data": {
      "image/png": "[encoded data removed]",
      "text/plain": [
       "<Figure size 432x288 with 1 Axes>"
      ]
     },
     "metadata": {
      "needs_background": "light"
     },
     "output_type": "display_data"
    }
   ],
   "source": [
    "sentancesArr1 = sent_tokenize(dataDict[\"Data Science\"] )\n",
    "sentancesArr2 = sent_tokenize(dataDict[\"Streaming Services\"] )\n",
    "sentancesArr3 = sent_tokenize(dataDict[\"History of Singapore\"]  )\n",
    "\n",
    "sentances_df1 = pd.DataFrame(data=sentancesArr1, columns=[\"Sentences\"])\n",
    "sentances_df2 = pd.DataFrame(data=sentancesArr2, columns=[\"Sentences\"])\n",
    "sentances_df3 = pd.DataFrame(data=sentancesArr3, columns=[\"Sentences\"])\n",
    "\n",
    "sentances_df1['Number of Word'] = sentances_df1.apply(lambda row: len(nltk.word_tokenize((row.Sentences))) , axis = 1) \n",
    "sentances_df2['Number of Word'] = sentances_df2.apply(lambda row: len(nltk.word_tokenize((row.Sentences))) , axis = 1) \n",
    "sentances_df3['Number of Word'] = sentances_df3.apply(lambda row: len(nltk.word_tokenize((row.Sentences))) , axis = 1) \n",
    "\n",
    "sentances_df1 = sentances_df1.groupby(['Number of Word']).size().reset_index(name='Data Science')\n",
    "sentances_df2 = sentances_df2.groupby(['Number of Word']).size().reset_index(name='Streaming Services')\n",
    "sentances_df3 = sentances_df3.groupby(['Number of Word']).size().reset_index(name='History of Singapore')\n",
    "\n",
    "sentances_df1 = sentances_df1[sentances_df1['Number of Word'] < 200]\n",
    "sentances_df2 = sentances_df2[sentances_df2['Number of Word'] < 100]\n",
    "\n",
    "\n",
    "ax = sentances_df1.plot(x=\"Number of Word\" , y=[\"Data Science\" ], kind=\"line\") \n",
    "sentances_df2.plot(x=\"Number of Word\" , y=[\"Streaming Services\" ], kind=\"line\",ax=ax) \n",
    "sentances_df3.plot(x=\"Number of Word\" , y=[\"History of Singapore\" ], kind=\"line\",ax=ax) \n",
    "plt.ylabel('Frequency')\n",
    "plt.title(\"Distribution Of The Sentence Length\")\n",
    "\n"
   ]
  },
  {
   "cell_type": "markdown",
   "metadata": {
    "papermill": {
     "duration": 0.081296,
     "end_time": "2020-11-01T03:54:12.191283",
     "exception": false,
     "start_time": "2020-11-01T03:54:12.109987",
     "status": "completed"
    },
    "tags": []
   },
   "source": [
    "## Randomly select 3 sentence to check if result are expected"
   ]
  },
  {
   "cell_type": "code",
   "execution_count": 9,
   "metadata": {
    "execution": {
     "iopub.execute_input": "2020-11-01T03:54:12.391539Z",
     "iopub.status.busy": "2020-11-01T03:54:12.381128Z",
     "iopub.status.idle": "2020-11-01T03:54:12.798927Z",
     "shell.execute_reply": "2020-11-01T03:54:12.798183Z"
    },
    "papermill": {
     "duration": 0.527624,
     "end_time": "2020-11-01T03:54:12.799084",
     "exception": false,
     "start_time": "2020-11-01T03:54:12.271460",
     "status": "completed"
    },
    "tags": []
   },
   "outputs": [
    {
     "name": "stdout",
     "output_type": "stream",
     "text": [
      "Data Science\n",
      "“It’s how do you solve the meta-problem one level up, which is: How does every company equip itself with the ability not to be reliant on a service provider or a particular vendor, but to build those solutions themselves.”\n",
      "I am a San Francisco-based assistant editor for technology and innovation.\n",
      "[('“', 'VERB'), ('It', 'PRON'), ('’', 'NOUN'), ('s', 'VERB'), ('how', 'ADV'), ('do', 'VERB'), ('you', 'PRON'), ('solve', 'VERB'), ('the', 'DET'), ('meta-problem', 'ADJ'), ('one', 'NUM'), ('level', 'NOUN'), ('up', 'ADV'), (',', '.'), ('which', 'DET'), ('is', 'VERB'), (':', '.'), ('How', 'NOUN'), ('does', 'VERB'), ('every', 'DET'), ('company', 'NOUN'), ('equip', 'VERB'), ('itself', 'PRON'), ('with', 'ADP'), ('the', 'DET'), ('ability', 'NOUN'), ('not', 'ADV'), ('to', 'PRT'), ('be', 'VERB'), ('reliant', 'VERB'), ('on', 'ADP'), ('a', 'DET'), ('service', 'NOUN'), ('provider', 'NOUN'), ('or', 'CONJ'), ('a', 'DET'), ('particular', 'ADJ'), ('vendor', 'NOUN'), (',', '.'), ('but', 'CONJ'), ('to', 'PRT'), ('build', 'VERB'), ('those', 'DET'), ('solutions', 'NOUN'), ('themselves.', 'VERB'), ('”', 'NOUN'), ('I', 'PRON'), ('am', 'VERB'), ('a', 'DET'), ('San', 'NOUN'), ('Francisco-based', 'ADJ'), ('assistant', 'NOUN'), ('editor', 'NOUN'), ('for', 'ADP'), ('technology', 'NOUN'), ('and', 'CONJ'), ('innovation', 'NOUN'), ('.', '.')]\n",
      "In addition, data scientists need to be able to explain algorithms to business leaders.\n",
      "[('In', 'ADP'), ('addition', 'NOUN'), (',', '.'), ('data', 'NOUN'), ('scientists', 'NOUN'), ('need', 'VERB'), ('to', 'PRT'), ('be', 'VERB'), ('able', 'ADJ'), ('to', 'PRT'), ('explain', 'VERB'), ('algorithms', 'ADJ'), ('to', 'PRT'), ('business', 'NOUN'), ('leaders', 'NOUN'), ('.', '.')]\n",
      "Every action an internet user took was visible and trackable, leading to a huge and continuous volume of captured information.\n",
      "[('Every', 'DET'), ('action', 'NOUN'), ('an', 'DET'), ('internet', 'NOUN'), ('user', 'NOUN'), ('took', 'VERB'), ('was', 'VERB'), ('visible', 'ADJ'), ('and', 'CONJ'), ('trackable', 'ADJ'), (',', '.'), ('leading', 'VERB'), ('to', 'PRT'), ('a', 'DET'), ('huge', 'ADJ'), ('and', 'CONJ'), ('continuous', 'ADJ'), ('volume', 'NOUN'), ('of', 'ADP'), ('captured', 'ADJ'), ('information', 'NOUN'), ('.', '.')]\n",
      "Streaming Services\n",
      "There’s a large selection of international films, which you can sort by country.\n",
      "[('There', 'DET'), ('’', 'VERB'), ('s', 'ADJ'), ('a', 'DET'), ('large', 'ADJ'), ('selection', 'NOUN'), ('of', 'ADP'), ('international', 'ADJ'), ('films', 'NOUN'), (',', '.'), ('which', 'DET'), ('you', 'PRON'), ('can', 'VERB'), ('sort', 'VERB'), ('by', 'ADP'), ('country', 'NOUN'), ('.', '.')]\n",
      "Just head over to HBO GO and click play.\n",
      "[('Just', 'ADV'), ('head', 'NOUN'), ('over', 'ADP'), ('to', 'PRT'), ('HBO', 'NOUN'), ('GO', 'NOUN'), ('and', 'CONJ'), ('click', 'ADJ'), ('play', 'NOUN'), ('.', '.')]\n",
      "Its strategy is simple: free ad-supported content you love, but the debate over NBC Peacock Free vs Premium might be an easy question depending on how July's nation-wide launch goes.\n",
      "[('Its', 'PRON'), ('strategy', 'NOUN'), ('is', 'VERB'), ('simple', 'ADJ'), (':', '.'), ('free', 'ADJ'), ('ad-supported', 'ADJ'), ('content', 'NOUN'), ('you', 'PRON'), ('love', 'VERB'), (',', '.'), ('but', 'CONJ'), ('the', 'DET'), ('debate', 'NOUN'), ('over', 'ADP'), ('NBC', 'NOUN'), ('Peacock', 'NOUN'), ('Free', 'NOUN'), ('vs', 'NOUN'), ('Premium', 'NOUN'), ('might', 'VERB'), ('be', 'VERB'), ('an', 'DET'), ('easy', 'ADJ'), ('question', 'NOUN'), ('depending', 'VERB'), ('on', 'ADP'), ('how', 'ADV'), ('July', 'NOUN'), (\"'s\", 'PRT'), ('nation-wide', 'ADJ'), ('launch', 'NOUN'), ('goes', 'VERB'), ('.', '.')]\n",
      "History of Singapore\n",
      "Most Singaporeans are probably unfamiliar with the story of the Singapore Stone, and I myself was no exception.\n",
      "[('Most', 'ADJ'), ('Singaporeans', 'NOUN'), ('are', 'VERB'), ('probably', 'ADV'), ('unfamiliar', 'ADJ'), ('with', 'ADP'), ('the', 'DET'), ('story', 'NOUN'), ('of', 'ADP'), ('the', 'DET'), ('Singapore', 'NOUN'), ('Stone', 'NOUN'), (',', '.'), ('and', 'CONJ'), ('I', 'PRON'), ('myself', 'PRON'), ('was', 'VERB'), ('no', 'DET'), ('exception', 'NOUN'), ('.', '.')]\n",
      "In 1924, a causeway opened linking the northern part of Singapore to Johor Bahru.\n",
      "[('In', 'ADP'), ('1924', 'NUM'), (',', '.'), ('a', 'DET'), ('causeway', 'NOUN'), ('opened', 'VERB'), ('linking', 'VERB'), ('the', 'DET'), ('northern', 'ADJ'), ('part', 'NOUN'), ('of', 'ADP'), ('Singapore', 'NOUN'), ('to', 'PRT'), ('Johor', 'NOUN'), ('Bahru', 'NOUN'), ('.', '.')]\n",
      "22.\n",
      "[('22', 'NUM'), ('.', '.')]\n"
     ]
    }
   ],
   "source": [
    "for tpd in TopicDomain:\n",
    "    ar = sent_tokenize(dataDict[tpd])\n",
    "    print(tpd)\n",
    "    for i in range(3):\n",
    "        ranSen = random.choice(ar)\n",
    "        print(ranSen)\n",
    "        print(nltk.pos_tag(word_tokenize(ranSen),tagset='universal'))"
   ]
  },
  {
   "cell_type": "markdown",
   "metadata": {
    "papermill": {
     "duration": 0.081713,
     "end_time": "2020-11-01T03:54:12.961948",
     "exception": false,
     "start_time": "2020-11-01T03:54:12.880235",
     "status": "completed"
    },
    "tags": []
   },
   "source": [
    "# Part 2: Development of < Noun-Adj > Pair Ranker"
   ]
  },
  {
   "cell_type": "markdown",
   "metadata": {
    "papermill": {
     "duration": 0.087343,
     "end_time": "2020-11-01T03:54:13.131797",
     "exception": false,
     "start_time": "2020-11-01T03:54:13.044454",
     "status": "completed"
    },
    "tags": []
   },
   "source": [
    "In order to perform analysis for this section, we are required to have 20-30 reviews on iPhone 11. Even though the dataset required is small, we decided to avoid copying the data one by one into a Comma Separated Values (CSV) file, as it will be time consuming and inconvenient in the case if the dataset is large. Thus, we are using a scraper extension called Amazon Review Scraper, to scrap out the data from Amazon. The scrapped data will be downloaded and saved as CSV format to import into our project. Since there are 59 reviews in the CSV file, we will randomly extract 30 reviews using the random() function. The data_iphone contains the already narrowed-down dataset"
   ]
  },
  {
   "cell_type": "code",
   "execution_count": 10,
   "metadata": {
    "execution": {
     "iopub.execute_input": "2020-11-01T03:54:13.320232Z",
     "iopub.status.busy": "2020-11-01T03:54:13.319149Z",
     "iopub.status.idle": "2020-11-01T03:54:13.331953Z",
     "shell.execute_reply": "2020-11-01T03:54:13.331205Z"
    },
    "papermill": {
     "duration": 0.105863,
     "end_time": "2020-11-01T03:54:13.332089",
     "exception": false,
     "start_time": "2020-11-01T03:54:13.226226",
     "status": "completed"
    },
    "tags": []
   },
   "outputs": [
    {
     "data": {
      "text/plain": [
       "0                                                                                                                                                                                                              This product is awful, it was cool for a few hours until the screen was completely unresponsive. Honestly I’ve bought refurbished phones before by Apple but these Amazon guys seem to really be dropping the ball. This is a terrible product and honestly now I just want my money back. Will not be purchasing any phones off Amazon ever again.\n",
       "1                                                                                                                                                                                                                                                                                                                                                                                                                 While I had to return the phone since it did not work as expected. I found that their costumer service was very approachable, and understanding.\n",
       "2                                                                                                                                                                                                                                                                                                                                                                                                                                                                                               quality is very good overall.Batter life is not what it should be!\n",
       "3                                                                                                                                                                                                                                                                                                                                                                                                                                                                                        Love the color. Have not fully used as of yet. Still learning how to use.\n",
       "4    2 months in... so far so good. Battery capacity was at 100% when I received it. It came with a protective screen on it. Upon taking it off for a more durable screen protector I noticed there were scratches. HMMM... wasn’t too happy about that. But I did save $$$ of dollars buying this renewed. I’ll take what I can get. Scratched are completely unnoticeable when protection screen is on. Woohoo!! Camera game has totally upgraded. 4K videos are poppin! I was able to send high quality interview videos and create great group project videos.\n",
       "Name: Review, dtype: object"
      ]
     },
     "execution_count": 10,
     "metadata": {},
     "output_type": "execute_result"
    }
   ],
   "source": [
    "data_iphone = pd.read_csv(\"../input/new-iphone11review/iphone11_review.csv\") \n",
    "data = data_iphone.iloc[:,5]\n",
    "data.head(5)"
   ]
  },
  {
   "cell_type": "markdown",
   "metadata": {
    "papermill": {
     "duration": 0.082221,
     "end_time": "2020-11-01T03:54:13.500842",
     "exception": false,
     "start_time": "2020-11-01T03:54:13.418621",
     "status": "completed"
    },
    "tags": []
   },
   "source": [
    "## Data cleaning\n",
    "\n",
    "For data cleaning we looked at various ways to pre-process the text: \n",
    "\n",
    "1. Dealing with spelling errors \n",
    "2. Replacing words \n",
    "3. Lower-case \n",
    "4. Remove invalid symbols and numbers \n",
    "5. Word tokenization \n",
    "6. Stemming "
   ]
  },
  {
   "cell_type": "markdown",
   "metadata": {
    "papermill": {
     "duration": 0.082297,
     "end_time": "2020-11-01T03:54:13.665115",
     "exception": false,
     "start_time": "2020-11-01T03:54:13.582818",
     "status": "completed"
    },
    "tags": []
   },
   "source": [
    "### 1. Dealing with spelling errors\n",
    "\n",
    "We tried using TextBlob library, which is a popular Python library for processing textual data, to identify spelling errors and attempt spelling correction on these spelling errors.  "
   ]
  },
  {
   "cell_type": "code",
   "execution_count": 11,
   "metadata": {
    "execution": {
     "iopub.execute_input": "2020-11-01T03:54:13.835360Z",
     "iopub.status.busy": "2020-11-01T03:54:13.834352Z",
     "iopub.status.idle": "2020-11-01T03:54:13.836902Z",
     "shell.execute_reply": "2020-11-01T03:54:13.837452Z"
    },
    "papermill": {
     "duration": 0.090085,
     "end_time": "2020-11-01T03:54:13.837619",
     "exception": false,
     "start_time": "2020-11-01T03:54:13.747534",
     "status": "completed"
    },
    "tags": []
   },
   "outputs": [],
   "source": [
    "# i=0\n",
    "\n",
    "# # data_iphone['misspelled'].fillna()\n",
    "\n",
    "# while(i<len(data)):\n",
    "#     docx=data[i]\n",
    "#     string=re.findall(\"[a-zA-Z']+\",docx)\n",
    "#     updated_docx=(\" \".join(string))\n",
    "#     spell = SpellChecker()\n",
    "#     print(spell.unknown(string))\n",
    "# #     data_iphone['misspelled'][i] = spell.unknown(str)\n",
    "#     i=i+1\n",
    "#     new_doc = TextBlob(updated_docx)\n",
    "\n",
    "#     result = new_doc.correct()\n",
    "#     print(\"result\")\n",
    "\n",
    "#     print(result)"
   ]
  },
  {
   "cell_type": "markdown",
   "metadata": {
    "papermill": {
     "duration": 0.084684,
     "end_time": "2020-11-01T03:54:14.004964",
     "exception": false,
     "start_time": "2020-11-01T03:54:13.920280",
     "status": "completed"
    },
    "tags": []
   },
   "source": [
    "| Spelling errors identified | Attempted spelling error correction | \n",
    "| -- | -- |\n",
    "| costumer  | Costume (should be customer) | \n",
    "| poppin   | popping  | \n",
    "| woohoo   | Woohoo  | \n",
    "| wasn  | wasn t  | \n",
    "| it's   | it's  | \n",
    "| pretention   | Prevention (should be protection)  | \n",
    "| iphone    | shone   | \n",
    "| wifi    | iii   | \n",
    "| syncing   | singing  | \n",
    "| iphones    | iPhones   | \n",
    "| doesn't    | doesn't   | \n",
    "| isn't    | Isn't   | \n",
    "| google    | goose  | \n",
    "| we're    | we're  | \n",
    "| nother     | a other (should be another)   | \n",
    "| couldn     | couldn t   | \n",
    "\n",
    "***Observations and remarks***\n",
    "\n",
    "The .correct() function did a terrible job at identifying and correcting spelling mistakes. Only 7 out of the 17 words identified as spelling errors were actually spelling errors. Textblob incorrectly identified technical terms such as “google” and “wifi” as spelling errors. More importantly, it changes more correctly spelled terms into incorrectly spelling terms than the other way round which is not a good sign. For example, in the case of “google” and “wifi”, it “corrects” those terms to “goose” and “iii” respectively. Furthermore, it is also not able to correct the incorrectly spelled words. For example, the incorrectly spelled words “costumer” and “pretention” are corrected to “costume” and “prevention” instead of “customer” and “protection” respectively. In the end, it only corrected 4 words correctly. Due to the terrible result, we decided not to use the TextBlob library to deal with the spelling errors. "
   ]
  },
  {
   "cell_type": "code",
   "execution_count": 12,
   "metadata": {
    "execution": {
     "iopub.execute_input": "2020-11-01T03:54:14.177060Z",
     "iopub.status.busy": "2020-11-01T03:54:14.176110Z",
     "iopub.status.idle": "2020-11-01T03:54:14.179707Z",
     "shell.execute_reply": "2020-11-01T03:54:14.178958Z"
    },
    "papermill": {
     "duration": 0.092635,
     "end_time": "2020-11-01T03:54:14.179832",
     "exception": false,
     "start_time": "2020-11-01T03:54:14.087197",
     "status": "completed"
    },
    "tags": []
   },
   "outputs": [],
   "source": [
    "# just an example of how textBlob should actually work\n",
    "\n",
    "# docx='''People have travelled through and inhabited the Toronto area, located on a broad sloping plateau interspersed with rivers, \n",
    "#       deep ravines, and urban forest, for more than 10,000 years.[18] After the broadly disputed Torronto Purchase, when the \n",
    "#       Mississauga surrendered the area to the British Crown,[19] the British established the town of York in 1793 and later \n",
    "#       designeted it as the capital of Upper Canada.[20] During the War of 1812, the town was the site of the Battle of York and \n",
    "#       suffered heavy damage by American troops.[21] York was renamed and incorporated in 1834 as the city of Toronto. It was \n",
    "#       designated as the capitel of the province of Ontario in 1867 during Canadian Confederation.[22] The city proper has since \n",
    "#       expanded past its original borders through both annexation and amalgamation to its current area of 630.2 km2 (243.3 sq mi). \n",
    "#       The diverse population of Tornto reflects its current and historical role as an important destination for immigrants to Canada.\n",
    "#       [23][24] More than 50 percent of residants belong to a visible minority population group,[25] and over 200 distinct ethnic \n",
    "#       origins are represented among its inhabitats.[26] While the majority of Torontonians speak English as their premary language, \n",
    "#       over 160 languages are spoken in the city.[27] Toront is a prominent center for music,[28] theatre,[29] motion picture \n",
    "#       production,[30] and tilevision production,[31] and is home to the headquarters of Canada's major notional broadcast networks \n",
    "#       and media outlets.[32] Its varied caltural institutions,[33] which include numerous museums and gelleries, festivals and \n",
    "#       public events, entertaiment districts, national historic sites, and sports actevities,[34] attract over 43 million touriets \n",
    "#       each year.[35][36] Torunto is known for its many skysvrapers and high-rise buildinds,[37] in particalar the tallest \n",
    "#       free-standind structure in the Western Hemisphere, the CN Tower.'''\n",
    "\n",
    "# str=re.findall(\"[a-zA-Z,.]+\",docx)\n",
    "# updated_docx=(\" \".join(str))\n",
    "# print(updated_docx)\n",
    "\n",
    "# spell = SpellChecker()\n",
    "\n",
    "# misspelled = spell.unknown(str)\n",
    "# print(misspelled)\n",
    "\n",
    "# new_doc = TextBlob(updated_docx)\n",
    "\n",
    "# result = new_doc.correct()\n",
    "\n",
    "# print(result)"
   ]
  },
  {
   "cell_type": "markdown",
   "metadata": {
    "papermill": {
     "duration": 0.081515,
     "end_time": "2020-11-01T03:54:14.343984",
     "exception": false,
     "start_time": "2020-11-01T03:54:14.262469",
     "status": "completed"
    },
    "tags": []
   },
   "source": [
    "### 2. Replacing words"
   ]
  },
  {
   "cell_type": "markdown",
   "metadata": {
    "papermill": {
     "duration": 0.081598,
     "end_time": "2020-11-01T03:54:14.509126",
     "exception": false,
     "start_time": "2020-11-01T03:54:14.427528",
     "status": "completed"
    },
    "tags": []
   },
   "source": [
    "| Change |Reason | \n",
    "| -- | -- |\n",
    "| 'Smartphone' -> 'phone'  | “Smartphone” word is found in review 12. In the review, smartphone refers to the iPhone itself. | \n",
    "| ‘iPhone’ -> ‘phone’   | We decided to convert the word iPhone into phone as phone in this case, is an umbrella term relating to the iPhone.  | \n",
    "|‘ it ‘ -> ‘phone’  | “It” word is found in review 1,2,3,5,8,13,24,26,27,28,30. Phone is described using the word “it” in this review. | \n",
    "| ‘ it’s ‘ -> ‘phone’ | “It’s” word is found in review 7,21,25. Phone is also described using the word “it’s” in this review. | \n",
    "| it's   | it's  | \n",
    "| ‘product’ -> ‘phone’   | “product” word is found in review 1,13,24. Since the product that is sold to the reviewers is phone, so we changed the word product to phone.  | "
   ]
  },
  {
   "cell_type": "code",
   "execution_count": 13,
   "metadata": {
    "execution": {
     "iopub.execute_input": "2020-11-01T03:54:14.690276Z",
     "iopub.status.busy": "2020-11-01T03:54:14.689496Z",
     "iopub.status.idle": "2020-11-01T03:54:14.709469Z",
     "shell.execute_reply": "2020-11-01T03:54:14.710052Z"
    },
    "papermill": {
     "duration": 0.119185,
     "end_time": "2020-11-01T03:54:14.710204",
     "exception": false,
     "start_time": "2020-11-01T03:54:14.591019",
     "status": "completed"
    },
    "tags": []
   },
   "outputs": [
    {
     "data": {
      "text/html": [
       "<div>\n",
       "<style scoped>\n",
       "    .dataframe tbody tr th:only-of-type {\n",
       "        vertical-align: middle;\n",
       "    }\n",
       "\n",
       "    .dataframe tbody tr th {\n",
       "        vertical-align: top;\n",
       "    }\n",
       "\n",
       "    .dataframe thead th {\n",
       "        text-align: right;\n",
       "    }\n",
       "</style>\n",
       "<table border=\"1\" class=\"dataframe\">\n",
       "  <thead>\n",
       "    <tr style=\"text-align: right;\">\n",
       "      <th></th>\n",
       "      <th>Asin</th>\n",
       "      <th>UserName</th>\n",
       "      <th>Rating</th>\n",
       "      <th>Subject</th>\n",
       "      <th>ReviewDate</th>\n",
       "      <th>Review</th>\n",
       "    </tr>\n",
       "  </thead>\n",
       "  <tbody>\n",
       "    <tr>\n",
       "      <th>0</th>\n",
       "      <td>B07Z4681LQ</td>\n",
       "      <td>Jacky</td>\n",
       "      <td>1.0 out of 5 stars</td>\n",
       "      <td>Terrible Product</td>\n",
       "      <td>Reviewed in the United States on June 9, 2020</td>\n",
       "      <td>This product is awful, it was cool for a few hours until the screen was completely unresponsive. Honestly I’ve bought refurbished phones before by Apple but these Amazon guys seem to really be dropping the ball. This is a terrible product and honestly now I just want my money back. Will not be purchasing any phones off Amazon ever again.</td>\n",
       "    </tr>\n",
       "    <tr>\n",
       "      <th>1</th>\n",
       "      <td>B07Z4681LQ</td>\n",
       "      <td>Amazon Customer</td>\n",
       "      <td>5.0 out of 5 stars</td>\n",
       "      <td>Good costumer service.</td>\n",
       "      <td>Reviewed in the United States on January 18, 2020</td>\n",
       "      <td>While I had to return the phone since it did not work as expected. I found that their costumer service was very approachable, and understanding.</td>\n",
       "    </tr>\n",
       "    <tr>\n",
       "      <th>2</th>\n",
       "      <td>B07Z4681LQ</td>\n",
       "      <td>Judith Runyon</td>\n",
       "      <td>4.0 out of 5 stars</td>\n",
       "      <td>Great product with short battery life!</td>\n",
       "      <td>Reviewed in the United States on February 12, 2020</td>\n",
       "      <td>quality is very good overall.Batter life is not what it should be!</td>\n",
       "    </tr>\n",
       "    <tr>\n",
       "      <th>3</th>\n",
       "      <td>B07Z4681LQ</td>\n",
       "      <td>Dee B.</td>\n",
       "      <td>5.0 out of 5 stars</td>\n",
       "      <td>Pro max</td>\n",
       "      <td>Reviewed in the United States on February 15, 2020</td>\n",
       "      <td>Love the color. Have not fully used as of yet. Still learning how to use.</td>\n",
       "    </tr>\n",
       "    <tr>\n",
       "      <th>4</th>\n",
       "      <td>B07Z4681LQ</td>\n",
       "      <td>Lili</td>\n",
       "      <td>5.0 out of 5 stars</td>\n",
       "      <td>I got what i paid for</td>\n",
       "      <td>Reviewed in the United States on August 21, 2020</td>\n",
       "      <td>2 months in... so far so good. Battery capacity was at 100% when I received it. It came with a protective screen on it. Upon taking it off for a more durable screen protector I noticed there were scratches. HMMM... wasn’t too happy about that. But I did save $$$ of dollars buying this renewed. I’ll take what I can get. Scratched are completely unnoticeable when protection screen is on. Woohoo!! Camera game has totally upgraded. 4K videos are poppin! I was able to send high quality interview videos and create great group project videos.</td>\n",
       "    </tr>\n",
       "    <tr>\n",
       "      <th>5</th>\n",
       "      <td>B07Z4681LQ</td>\n",
       "      <td>MyWifeN4Kidz</td>\n",
       "      <td>3.0 out of 5 stars</td>\n",
       "      <td>Not to happy.</td>\n",
       "      <td>Reviewed in the United States on June 30, 2020</td>\n",
       "      <td>I’m mainly upset they took all the original accessories that come with the device especially at how much they are asking for. Could have gotten one brand new with all the accessories for about the same price.</td>\n",
       "    </tr>\n",
       "    <tr>\n",
       "      <th>6</th>\n",
       "      <td>B07Z4681LQ</td>\n",
       "      <td>Kisorkumar Varadarajan</td>\n",
       "      <td>4.0 out of 5 stars</td>\n",
       "      <td>Good phone</td>\n",
       "      <td>Reviewed in the United States on June 4, 2020</td>\n",
       "      <td>Good features. But felt it's overpriced</td>\n",
       "    </tr>\n",
       "    <tr>\n",
       "      <th>7</th>\n",
       "      <td>B07Z4681LQ</td>\n",
       "      <td>scott spieler</td>\n",
       "      <td>5.0 out of 5 stars</td>\n",
       "      <td>I would buy from them again</td>\n",
       "      <td>Reviewed in the United States on June 9, 2020</td>\n",
       "      <td>It was as promised no flaws no blemishes , it was a terrific experience</td>\n",
       "    </tr>\n",
       "    <tr>\n",
       "      <th>8</th>\n",
       "      <td>B07Z4681LQ</td>\n",
       "      <td>ali  s mousavi</td>\n",
       "      <td>3.0 out of 5 stars</td>\n",
       "      <td>one of the camera not working good</td>\n",
       "      <td>Reviewed in the United States on July 15, 2020</td>\n",
       "      <td>camera issues on I phone 11 pro max one of the camera has line and scratch on the face you cored with callas for pretention I couldn't see the scratch for the price I paid not worded</td>\n",
       "    </tr>\n",
       "    <tr>\n",
       "      <th>9</th>\n",
       "      <td>B07Z4681LQ</td>\n",
       "      <td>Jhonny Wylker</td>\n",
       "      <td>5.0 out of 5 stars</td>\n",
       "      <td>so far so good</td>\n",
       "      <td>Reviewed in the United States on August 21, 2020</td>\n",
       "      <td>everything is working perfectly</td>\n",
       "    </tr>\n",
       "    <tr>\n",
       "      <th>10</th>\n",
       "      <td>B07Z4681LQ</td>\n",
       "      <td>Amazon Customer</td>\n",
       "      <td>5.0 out of 5 stars</td>\n",
       "      <td>Love it!</td>\n",
       "      <td>Reviewed in the United States on September 30, 2020</td>\n",
       "      <td>Perfect condition and shipped extremely fast</td>\n",
       "    </tr>\n",
       "    <tr>\n",
       "      <th>11</th>\n",
       "      <td>B07Z4681LQ</td>\n",
       "      <td>Jorge Ivan Franco Florez</td>\n",
       "      <td>5.0 out of 5 stars</td>\n",
       "      <td>Its a very good dealer and product</td>\n",
       "      <td>Reviewed in the United States on July 6, 2020</td>\n",
       "      <td>Smartphone as a new one, and all the features works perfectly!!</td>\n",
       "    </tr>\n",
       "    <tr>\n",
       "      <th>12</th>\n",
       "      <td>B07Z4681LQ</td>\n",
       "      <td>Simona Ruxandra</td>\n",
       "      <td>5.0 out of 5 stars</td>\n",
       "      <td>Great phone</td>\n",
       "      <td>Reviewed in the United States on May 21, 2020</td>\n",
       "      <td>An Apple product never disappoints. Love it!</td>\n",
       "    </tr>\n",
       "    <tr>\n",
       "      <th>13</th>\n",
       "      <td>B07Z4681LQ</td>\n",
       "      <td>Alma Sarmiento</td>\n",
       "      <td>5.0 out of 5 stars</td>\n",
       "      <td>I would recommend</td>\n",
       "      <td>Reviewed in the United States on May 16, 2020</td>\n",
       "      <td>Such a beautiful phone</td>\n",
       "    </tr>\n",
       "    <tr>\n",
       "      <th>14</th>\n",
       "      <td>B07Z4681LQ</td>\n",
       "      <td>Prem Addada</td>\n",
       "      <td>4.0 out of 5 stars</td>\n",
       "      <td>Charger is not in good shape</td>\n",
       "      <td>Reviewed in the United States on June 23, 2020</td>\n",
       "      <td>The phone is so nice but I got the charger with poor quality.</td>\n",
       "    </tr>\n",
       "    <tr>\n",
       "      <th>15</th>\n",
       "      <td>B07Z4681LQ</td>\n",
       "      <td>Riya K.</td>\n",
       "      <td>2.0 out of 5 stars</td>\n",
       "      <td>Dead camera</td>\n",
       "      <td>Reviewed in the United States on July 11, 2020</td>\n",
       "      <td>This iPhone camera is not even working!!!everything else works ig.</td>\n",
       "    </tr>\n",
       "    <tr>\n",
       "      <th>16</th>\n",
       "      <td>B07Z4681LQ</td>\n",
       "      <td>Gilmara santos</td>\n",
       "      <td>2.0 out of 5 stars</td>\n",
       "      <td>the cell phone is switching off at least 3 times a day.  I am very disappointed</td>\n",
       "      <td>Reviewed in the United States on August 23, 2020</td>\n",
       "      <td>the cell phone is switching off at least 3 times a day.  I am very disappointed</td>\n",
       "    </tr>\n",
       "    <tr>\n",
       "      <th>17</th>\n",
       "      <td>B07Z4681LQ</td>\n",
       "      <td>Chidubem Oparaoji</td>\n",
       "      <td>5.0 out of 5 stars</td>\n",
       "      <td>Quality</td>\n",
       "      <td>Reviewed in the United States on July 2, 2020</td>\n",
       "      <td>This phone is of great quality. Can't wait for iOS 14 to debut!</td>\n",
       "    </tr>\n",
       "    <tr>\n",
       "      <th>18</th>\n",
       "      <td>B07Z4681LQ</td>\n",
       "      <td>ryan ray degraaf</td>\n",
       "      <td>5.0 out of 5 stars</td>\n",
       "      <td>Exactly like brand new</td>\n",
       "      <td>Reviewed in the United States on August 8, 2020</td>\n",
       "      <td>Beautiful phone. No flaws at all. Works perfect!!!</td>\n",
       "    </tr>\n",
       "    <tr>\n",
       "      <th>19</th>\n",
       "      <td>B07Z4681LQ</td>\n",
       "      <td>Abdelrahman</td>\n",
       "      <td>5.0 out of 5 stars</td>\n",
       "      <td>Great phone</td>\n",
       "      <td>Reviewed in the United States on August 13, 2020</td>\n",
       "      <td>Thanks , perfect mobile</td>\n",
       "    </tr>\n",
       "    <tr>\n",
       "      <th>20</th>\n",
       "      <td>B07Z4681LQ</td>\n",
       "      <td>Tuyet Le</td>\n",
       "      <td>5.0 out of 5 stars</td>\n",
       "      <td>Great product! Great price!</td>\n",
       "      <td>Reviewed in the United States on July 21, 2020</td>\n",
       "      <td>It's good!</td>\n",
       "    </tr>\n",
       "    <tr>\n",
       "      <th>21</th>\n",
       "      <td>B07Z4681LQ</td>\n",
       "      <td>Jordan D. Graybill</td>\n",
       "      <td>1.0 out of 5 stars</td>\n",
       "      <td>Worst phone I have ever had</td>\n",
       "      <td>Reviewed in the United States on May 14, 2020</td>\n",
       "      <td>I have had an iPhone basically since they have first started making them. I like iPhones.But the iPhone 11 is the worst phone I have had in the last 15 years. I hate this phone so much. Just get the iPhone 8 if you want a decent iPhone.I regret that I did not do further research on this piece of junk.Ever aspect sucks. It has issues pairing with Bluetooth devices. It has issues with syncing to files, connecting to WiFi. The finger print scanner is gone and sometimes the phone will open up quickly and other times it takes 30 seconds just to get the screen to light up, even when poking it with a finger over and over (no case or anything to prevent it from having issues here).Trust me, I like iPhones. Never had any of these issues before. Save yourself the overpriced amount that this phone is and even more so, save the frustration that comes with it.</td>\n",
       "    </tr>\n",
       "    <tr>\n",
       "      <th>22</th>\n",
       "      <td>B07Z4681LQ</td>\n",
       "      <td>Clint F.</td>\n",
       "      <td>3.0 out of 5 stars</td>\n",
       "      <td>iPhones are second rate now...</td>\n",
       "      <td>Reviewed in the United States on September 15, 2020</td>\n",
       "      <td>I started with iPhones way back on the iPhone 4. I stuck with them for several generations, upgrading every year, as I always do with my phones. I finally decided to switch and give the google phones a try, so I went with a Samsung Galaxy 7. I stayed with them until the 10 came out, then decided I'd go back to the iPhone and check them out again. I regretted it every single day... Aside from the fact that you can't customize hardly anything on the iPhones, the screen and photo quality is absolute garbage compared to Samsung. Even with this highly \"advanced\" iPhone, the screen doesn't look as good as my old Samsung Galaxy S9, in fact it isn't even close. Same with the picture quality. I waited the six agonizing months so I could switch back, and tomorrow I have the Galaxy Note 20 coming, and I couldn't be more excited. Apple used to be the player in this industry, but they are lagging far behind the competition now, and I don't see that I'd ever leave Samsung for them again in the future. I learned from my mistake, and I hope you will too!</td>\n",
       "    </tr>\n",
       "    <tr>\n",
       "      <th>23</th>\n",
       "      <td>B07Z4681LQ</td>\n",
       "      <td>Z</td>\n",
       "      <td>1.0 out of 5 stars</td>\n",
       "      <td>Apple has lost the mojo</td>\n",
       "      <td>Reviewed in the United States on August 25, 2020</td>\n",
       "      <td>I bought it brand new and the phone died after 4 months (we're talking about a phone thats worth more than a $1,000). Lost all the info and images. Took it to Apple, they \"fixed\" it and returned after several days. The fixed phone lasted only 2 months and started restarting non-stop. Will never buy an Apple product again. Read on the internet, there millions of people complaining about Apple products.</td>\n",
       "    </tr>\n",
       "    <tr>\n",
       "      <th>24</th>\n",
       "      <td>B07Z4681LQ</td>\n",
       "      <td>julian aldana</td>\n",
       "      <td>4.0 out of 5 stars</td>\n",
       "      <td>AWESOME</td>\n",
       "      <td>Reviewed in the United States on September 23, 2020</td>\n",
       "      <td>it's good</td>\n",
       "    </tr>\n",
       "    <tr>\n",
       "      <th>25</th>\n",
       "      <td>B07Z4681LQ</td>\n",
       "      <td>Jon</td>\n",
       "      <td>5.0 out of 5 stars</td>\n",
       "      <td>It is so incredibly amazing</td>\n",
       "      <td>Reviewed in the United States on May 15, 2020</td>\n",
       "      <td>It is the best thing ever I need a nother one for free please.</td>\n",
       "    </tr>\n",
       "    <tr>\n",
       "      <th>26</th>\n",
       "      <td>B07Z4681LQ</td>\n",
       "      <td>Guy1</td>\n",
       "      <td>5.0 out of 5 stars</td>\n",
       "      <td>Satisfied Customer</td>\n",
       "      <td>Reviewed in the United States on September 10, 2020</td>\n",
       "      <td>Overall, I am pleased with my purchase. I just received the phone today, and I couldn’t even tell that it was refurbished (even though it is). My package contained the phone itself and what I think is the original charger. Some people complained about receiving cheap chargers with their orders, but that was not the case with my order. It looks brand new and works as it should. The phone was also shipped very quickly, which was greatly appreciated. I am satisfied with this purchase.</td>\n",
       "    </tr>\n",
       "    <tr>\n",
       "      <th>27</th>\n",
       "      <td>B07Z4681LQ</td>\n",
       "      <td>Miranda</td>\n",
       "      <td>2.0 out of 5 stars</td>\n",
       "      <td>It’s not new</td>\n",
       "      <td>Reviewed in the United States on July 14, 2020</td>\n",
       "      <td>So I bought this brand new... but it was totally used. Scratch on the screen and the old owner left the screen protector On it</td>\n",
       "    </tr>\n",
       "    <tr>\n",
       "      <th>28</th>\n",
       "      <td>B07Z4681LQ</td>\n",
       "      <td>Peter da Graca</td>\n",
       "      <td>5.0 out of 5 stars</td>\n",
       "      <td>iPhone</td>\n",
       "      <td>Reviewed in the United States on August 6, 2020</td>\n",
       "      <td>Received in good condition, thank you</td>\n",
       "    </tr>\n",
       "    <tr>\n",
       "      <th>29</th>\n",
       "      <td>B07Z4681LQ</td>\n",
       "      <td>S. Jones</td>\n",
       "      <td>5.0 out of 5 stars</td>\n",
       "      <td>Great purchase</td>\n",
       "      <td>Reviewed in the United States on July 19, 2020</td>\n",
       "      <td>It’s perfect. Looks brand new and works great.</td>\n",
       "    </tr>\n",
       "  </tbody>\n",
       "</table>\n",
       "</div>"
      ],
      "text/plain": [
       "          Asin                  UserName              Rating  \\\n",
       "0   B07Z4681LQ                     Jacky  1.0 out of 5 stars   \n",
       "1   B07Z4681LQ           Amazon Customer  5.0 out of 5 stars   \n",
       "2   B07Z4681LQ             Judith Runyon  4.0 out of 5 stars   \n",
       "3   B07Z4681LQ                    Dee B.  5.0 out of 5 stars   \n",
       "4   B07Z4681LQ                      Lili  5.0 out of 5 stars   \n",
       "5   B07Z4681LQ              MyWifeN4Kidz  3.0 out of 5 stars   \n",
       "6   B07Z4681LQ    Kisorkumar Varadarajan  4.0 out of 5 stars   \n",
       "7   B07Z4681LQ             scott spieler  5.0 out of 5 stars   \n",
       "8   B07Z4681LQ            ali  s mousavi  3.0 out of 5 stars   \n",
       "9   B07Z4681LQ             Jhonny Wylker  5.0 out of 5 stars   \n",
       "10  B07Z4681LQ           Amazon Customer  5.0 out of 5 stars   \n",
       "11  B07Z4681LQ  Jorge Ivan Franco Florez  5.0 out of 5 stars   \n",
       "12  B07Z4681LQ           Simona Ruxandra  5.0 out of 5 stars   \n",
       "13  B07Z4681LQ            Alma Sarmiento  5.0 out of 5 stars   \n",
       "14  B07Z4681LQ               Prem Addada  4.0 out of 5 stars   \n",
       "15  B07Z4681LQ                   Riya K.  2.0 out of 5 stars   \n",
       "16  B07Z4681LQ            Gilmara santos  2.0 out of 5 stars   \n",
       "17  B07Z4681LQ         Chidubem Oparaoji  5.0 out of 5 stars   \n",
       "18  B07Z4681LQ          ryan ray degraaf  5.0 out of 5 stars   \n",
       "19  B07Z4681LQ               Abdelrahman  5.0 out of 5 stars   \n",
       "20  B07Z4681LQ                  Tuyet Le  5.0 out of 5 stars   \n",
       "21  B07Z4681LQ        Jordan D. Graybill  1.0 out of 5 stars   \n",
       "22  B07Z4681LQ                  Clint F.  3.0 out of 5 stars   \n",
       "23  B07Z4681LQ                         Z  1.0 out of 5 stars   \n",
       "24  B07Z4681LQ             julian aldana  4.0 out of 5 stars   \n",
       "25  B07Z4681LQ                       Jon  5.0 out of 5 stars   \n",
       "26  B07Z4681LQ                      Guy1  5.0 out of 5 stars   \n",
       "27  B07Z4681LQ                   Miranda  2.0 out of 5 stars   \n",
       "28  B07Z4681LQ            Peter da Graca  5.0 out of 5 stars   \n",
       "29  B07Z4681LQ                  S. Jones  5.0 out of 5 stars   \n",
       "\n",
       "                                                                            Subject  \\\n",
       "0                                                                  Terrible Product   \n",
       "1                                                            Good costumer service.   \n",
       "2                                            Great product with short battery life!   \n",
       "3                                                                           Pro max   \n",
       "4                                                             I got what i paid for   \n",
       "5                                                                     Not to happy.   \n",
       "6                                                                        Good phone   \n",
       "7                                                       I would buy from them again   \n",
       "8                                                one of the camera not working good   \n",
       "9                                                                    so far so good   \n",
       "10                                                                         Love it!   \n",
       "11                                               Its a very good dealer and product   \n",
       "12                                                                      Great phone   \n",
       "13                                                                I would recommend   \n",
       "14                                                     Charger is not in good shape   \n",
       "15                                                                      Dead camera   \n",
       "16  the cell phone is switching off at least 3 times a day.  I am very disappointed   \n",
       "17                                                                          Quality   \n",
       "18                                                           Exactly like brand new   \n",
       "19                                                                      Great phone   \n",
       "20                                                      Great product! Great price!   \n",
       "21                                                      Worst phone I have ever had   \n",
       "22                                                   iPhones are second rate now...   \n",
       "23                                                          Apple has lost the mojo   \n",
       "24                                                                          AWESOME   \n",
       "25                                                      It is so incredibly amazing   \n",
       "26                                                               Satisfied Customer   \n",
       "27                                                                     It’s not new   \n",
       "28                                                                           iPhone   \n",
       "29                                                                   Great purchase   \n",
       "\n",
       "                                             ReviewDate  \\\n",
       "0         Reviewed in the United States on June 9, 2020   \n",
       "1     Reviewed in the United States on January 18, 2020   \n",
       "2    Reviewed in the United States on February 12, 2020   \n",
       "3    Reviewed in the United States on February 15, 2020   \n",
       "4      Reviewed in the United States on August 21, 2020   \n",
       "5        Reviewed in the United States on June 30, 2020   \n",
       "6         Reviewed in the United States on June 4, 2020   \n",
       "7         Reviewed in the United States on June 9, 2020   \n",
       "8        Reviewed in the United States on July 15, 2020   \n",
       "9      Reviewed in the United States on August 21, 2020   \n",
       "10  Reviewed in the United States on September 30, 2020   \n",
       "11        Reviewed in the United States on July 6, 2020   \n",
       "12        Reviewed in the United States on May 21, 2020   \n",
       "13        Reviewed in the United States on May 16, 2020   \n",
       "14       Reviewed in the United States on June 23, 2020   \n",
       "15       Reviewed in the United States on July 11, 2020   \n",
       "16     Reviewed in the United States on August 23, 2020   \n",
       "17        Reviewed in the United States on July 2, 2020   \n",
       "18      Reviewed in the United States on August 8, 2020   \n",
       "19     Reviewed in the United States on August 13, 2020   \n",
       "20       Reviewed in the United States on July 21, 2020   \n",
       "21        Reviewed in the United States on May 14, 2020   \n",
       "22  Reviewed in the United States on September 15, 2020   \n",
       "23     Reviewed in the United States on August 25, 2020   \n",
       "24  Reviewed in the United States on September 23, 2020   \n",
       "25        Reviewed in the United States on May 15, 2020   \n",
       "26  Reviewed in the United States on September 10, 2020   \n",
       "27       Reviewed in the United States on July 14, 2020   \n",
       "28      Reviewed in the United States on August 6, 2020   \n",
       "29       Reviewed in the United States on July 19, 2020   \n",
       "\n",
       "                                                                                                                                                                                                                                                                                                                                                                                                                                                                                                                                                                                                                                                                                                                                                                                                                                                                                                                                                                                                                                                                                            Review  \n",
       "0                                                                                                                                                                                                                                                                                                                                                                                                                                                                                                                                                                                                                                                                                                                                              This product is awful, it was cool for a few hours until the screen was completely unresponsive. Honestly I’ve bought refurbished phones before by Apple but these Amazon guys seem to really be dropping the ball. This is a terrible product and honestly now I just want my money back. Will not be purchasing any phones off Amazon ever again.  \n",
       "1                                                                                                                                                                                                                                                                                                                                                                                                                                                                                                                                                                                                                                                                                                                                                                                                                                                                                                                                                 While I had to return the phone since it did not work as expected. I found that their costumer service was very approachable, and understanding.  \n",
       "2                                                                                                                                                                                                                                                                                                                                                                                                                                                                                                                                                                                                                                                                                                                                                                                                                                                                                                                                                                                                                               quality is very good overall.Batter life is not what it should be!  \n",
       "3                                                                                                                                                                                                                                                                                                                                                                                                                                                                                                                                                                                                                                                                                                                                                                                                                                                                                                                                                                                                                        Love the color. Have not fully used as of yet. Still learning how to use.  \n",
       "4                                                                                                                                                                                                                                                                                                                                                                                                                                                                                                                                    2 months in... so far so good. Battery capacity was at 100% when I received it. It came with a protective screen on it. Upon taking it off for a more durable screen protector I noticed there were scratches. HMMM... wasn’t too happy about that. But I did save $$$ of dollars buying this renewed. I’ll take what I can get. Scratched are completely unnoticeable when protection screen is on. Woohoo!! Camera game has totally upgraded. 4K videos are poppin! I was able to send high quality interview videos and create great group project videos.  \n",
       "5                                                                                                                                                                                                                                                                                                                                                                                                                                                                                                                                                                                                                                                                                                                                                                                                                                                                                 I’m mainly upset they took all the original accessories that come with the device especially at how much they are asking for. Could have gotten one brand new with all the accessories for about the same price.  \n",
       "6                                                                                                                                                                                                                                                                                                                                                                                                                                                                                                                                                                                                                                                                                                                                                                                                                                                                                                                                                                                                                                                          Good features. But felt it's overpriced  \n",
       "7                                                                                                                                                                                                                                                                                                                                                                                                                                                                                                                                                                                                                                                                                                                                                                                                                                                                                                                                                                                                                          It was as promised no flaws no blemishes , it was a terrific experience  \n",
       "8                                                                                                                                                                                                                                                                                                                                                                                                                                                                                                                                                                                                                                                                                                                                                                                                                                                                                                           camera issues on I phone 11 pro max one of the camera has line and scratch on the face you cored with callas for pretention I couldn't see the scratch for the price I paid not worded  \n",
       "9                                                                                                                                                                                                                                                                                                                                                                                                                                                                                                                                                                                                                                                                                                                                                                                                                                                                                                                                                                                                                                                                  everything is working perfectly  \n",
       "10                                                                                                                                                                                                                                                                                                                                                                                                                                                                                                                                                                                                                                                                                                                                                                                                                                                                                                                                                                                                                                                    Perfect condition and shipped extremely fast  \n",
       "11                                                                                                                                                                                                                                                                                                                                                                                                                                                                                                                                                                                                                                                                                                                                                                                                                                                                                                                                                                                                                                 Smartphone as a new one, and all the features works perfectly!!  \n",
       "12                                                                                                                                                                                                                                                                                                                                                                                                                                                                                                                                                                                                                                                                                                                                                                                                                                                                                                                                                                                                                                                    An Apple product never disappoints. Love it!  \n",
       "13                                                                                                                                                                                                                                                                                                                                                                                                                                                                                                                                                                                                                                                                                                                                                                                                                                                                                                                                                                                                                                                                          Such a beautiful phone  \n",
       "14                                                                                                                                                                                                                                                                                                                                                                                                                                                                                                                                                                                                                                                                                                                                                                                                                                                                                                                                                                                                                                   The phone is so nice but I got the charger with poor quality.  \n",
       "15                                                                                                                                                                                                                                                                                                                                                                                                                                                                                                                                                                                                                                                                                                                                                                                                                                                                                                                                                                                                                              This iPhone camera is not even working!!!everything else works ig.  \n",
       "16                                                                                                                                                                                                                                                                                                                                                                                                                                                                                                                                                                                                                                                                                                                                                                                                                                                                                                                                                                                                                 the cell phone is switching off at least 3 times a day.  I am very disappointed  \n",
       "17                                                                                                                                                                                                                                                                                                                                                                                                                                                                                                                                                                                                                                                                                                                                                                                                                                                                                                                                                                                                                                 This phone is of great quality. Can't wait for iOS 14 to debut!  \n",
       "18                                                                                                                                                                                                                                                                                                                                                                                                                                                                                                                                                                                                                                                                                                                                                                                                                                                                                                                                                                                                                                              Beautiful phone. No flaws at all. Works perfect!!!  \n",
       "19                                                                                                                                                                                                                                                                                                                                                                                                                                                                                                                                                                                                                                                                                                                                                                                                                                                                                                                                                                                                                                                                         Thanks , perfect mobile  \n",
       "20                                                                                                                                                                                                                                                                                                                                                                                                                                                                                                                                                                                                                                                                                                                                                                                                                                                                                                                                                                                                                                                                                      It's good!  \n",
       "21                                                                                                                                                                                                     I have had an iPhone basically since they have first started making them. I like iPhones.But the iPhone 11 is the worst phone I have had in the last 15 years. I hate this phone so much. Just get the iPhone 8 if you want a decent iPhone.I regret that I did not do further research on this piece of junk.Ever aspect sucks. It has issues pairing with Bluetooth devices. It has issues with syncing to files, connecting to WiFi. The finger print scanner is gone and sometimes the phone will open up quickly and other times it takes 30 seconds just to get the screen to light up, even when poking it with a finger over and over (no case or anything to prevent it from having issues here).Trust me, I like iPhones. Never had any of these issues before. Save yourself the overpriced amount that this phone is and even more so, save the frustration that comes with it.  \n",
       "22  I started with iPhones way back on the iPhone 4. I stuck with them for several generations, upgrading every year, as I always do with my phones. I finally decided to switch and give the google phones a try, so I went with a Samsung Galaxy 7. I stayed with them until the 10 came out, then decided I'd go back to the iPhone and check them out again. I regretted it every single day... Aside from the fact that you can't customize hardly anything on the iPhones, the screen and photo quality is absolute garbage compared to Samsung. Even with this highly \"advanced\" iPhone, the screen doesn't look as good as my old Samsung Galaxy S9, in fact it isn't even close. Same with the picture quality. I waited the six agonizing months so I could switch back, and tomorrow I have the Galaxy Note 20 coming, and I couldn't be more excited. Apple used to be the player in this industry, but they are lagging far behind the competition now, and I don't see that I'd ever leave Samsung for them again in the future. I learned from my mistake, and I hope you will too!  \n",
       "23                                                                                                                                                                                                                                                                                                                                                                                                                                                                                                                                                                                                                                                                            I bought it brand new and the phone died after 4 months (we're talking about a phone thats worth more than a $1,000). Lost all the info and images. Took it to Apple, they \"fixed\" it and returned after several days. The fixed phone lasted only 2 months and started restarting non-stop. Will never buy an Apple product again. Read on the internet, there millions of people complaining about Apple products.  \n",
       "24                                                                                                                                                                                                                                                                                                                                                                                                                                                                                                                                                                                                                                                                                                                                                                                                                                                                                                                                                                                                                                                                                       it's good  \n",
       "25                                                                                                                                                                                                                                                                                                                                                                                                                                                                                                                                                                                                                                                                                                                                                                                                                                                                                                                                                                                                                                  It is the best thing ever I need a nother one for free please.  \n",
       "26                                                                                                                                                                                                                                                                                                                                                                                                                                                                                                                                                                                          Overall, I am pleased with my purchase. I just received the phone today, and I couldn’t even tell that it was refurbished (even though it is). My package contained the phone itself and what I think is the original charger. Some people complained about receiving cheap chargers with their orders, but that was not the case with my order. It looks brand new and works as it should. The phone was also shipped very quickly, which was greatly appreciated. I am satisfied with this purchase.  \n",
       "27                                                                                                                                                                                                                                                                                                                                                                                                                                                                                                                                                                                                                                                                                                                                                                                                                                                                                                                                                                  So I bought this brand new... but it was totally used. Scratch on the screen and the old owner left the screen protector On it  \n",
       "28                                                                                                                                                                                                                                                                                                                                                                                                                                                                                                                                                                                                                                                                                                                                                                                                                                                                                                                                                                                                                                                           Received in good condition, thank you  \n",
       "29                                                                                                                                                                                                                                                                                                                                                                                                                                                                                                                                                                                                                                                                                                                                                                                                                                                                                                                                                                                                                                                  It’s perfect. Looks brand new and works great.  "
      ]
     },
     "execution_count": 13,
     "metadata": {},
     "output_type": "execute_result"
    }
   ],
   "source": [
    "data_iphone"
   ]
  },
  {
   "cell_type": "code",
   "execution_count": 14,
   "metadata": {
    "execution": {
     "iopub.execute_input": "2020-11-01T03:54:14.890525Z",
     "iopub.status.busy": "2020-11-01T03:54:14.889632Z",
     "iopub.status.idle": "2020-11-01T03:54:14.893403Z",
     "shell.execute_reply": "2020-11-01T03:54:14.892782Z"
    },
    "papermill": {
     "duration": 0.098177,
     "end_time": "2020-11-01T03:54:14.893535",
     "exception": false,
     "start_time": "2020-11-01T03:54:14.795358",
     "status": "completed"
    },
    "tags": []
   },
   "outputs": [],
   "source": [
    "def replace(sentence):\n",
    "    sentence_1=str(sentence)\n",
    "    middle_1=sentence_1.replace('Smartphone', 'phone')\n",
    "    middle_2=middle_1.replace('iPhone', 'phone')\n",
    "    middle_3=middle_2.replace(' it ', ' phone ') \n",
    "    middle_3=middle_3.replace(\" it's \", \" phone \") \n",
    "    analyse_iphone=middle_3.replace('product', 'phone')\n",
    "    return analyse_iphone\n",
    "\n",
    "data_iphone['replacedText']=data_iphone['Review'].map(lambda s:replace(s)) "
   ]
  },
  {
   "cell_type": "markdown",
   "metadata": {
    "papermill": {
     "duration": 0.085174,
     "end_time": "2020-11-01T03:54:15.064819",
     "exception": false,
     "start_time": "2020-11-01T03:54:14.979645",
     "status": "completed"
    },
    "tags": []
   },
   "source": [
    "### 3.More data cleaning\n",
    "\n",
    "* add lower-case\n",
    "* remove possible html\n",
    "* remove numbers\n",
    "* do tokenizing"
   ]
  },
  {
   "cell_type": "code",
   "execution_count": 15,
   "metadata": {
    "execution": {
     "iopub.execute_input": "2020-11-01T03:54:15.252075Z",
     "iopub.status.busy": "2020-11-01T03:54:15.251089Z",
     "iopub.status.idle": "2020-11-01T03:54:15.377792Z",
     "shell.execute_reply": "2020-11-01T03:54:15.376939Z"
    },
    "papermill": {
     "duration": 0.224034,
     "end_time": "2020-11-01T03:54:15.377939",
     "exception": false,
     "start_time": "2020-11-01T03:54:15.153905",
     "status": "completed"
    },
    "tags": []
   },
   "outputs": [],
   "source": [
    "# lemmatizer = WordNetLemmatizer()\n",
    "# stemmer = PorterStemmer() \n",
    "\n",
    "def preprocess(sentence):\n",
    "    sentence=str(sentence)\n",
    "    sentence = sentence.lower()\n",
    "    sentence=sentence.replace('{html}',\"\") \n",
    "    cleanr = re.compile('<.*?>') #not sure what this does\n",
    "    cleantext = re.sub(cleanr, '', sentence) #not sure what this does\n",
    "    rem_url=re.sub(r'http\\S+', '',cleantext) #not sure what this does \n",
    "    rem_num = re.sub('[0-9]+', '', rem_url) \n",
    "    tokenizer = RegexpTokenizer(r'\\w+') \n",
    "    tokens = tokenizer.tokenize(rem_num)  \n",
    "    filtered_words = [w for w in tokens if len(w) > 2 if not w in stopwords.words('english')]\n",
    "#     stem_words=[stemmer.stem(w) for w in filtered_words]\n",
    "#     lemma_words=[lemmatizer.lemmatize(w) for w in stem_words]\n",
    "    return \" \".join(filtered_words)\n",
    "\n",
    "data_iphone['cleanText']=data_iphone['replacedText'].map(lambda s:preprocess(s)) "
   ]
  },
  {
   "cell_type": "markdown",
   "metadata": {
    "papermill": {
     "duration": 0.085109,
     "end_time": "2020-11-01T03:54:15.548764",
     "exception": false,
     "start_time": "2020-11-01T03:54:15.463655",
     "status": "completed"
    },
    "tags": []
   },
   "source": [
    "Stemming is the process of reducing or simplifying words into their root forms. This involves mapping a group of words to the same stem and stems in this case may sometimes not be a valid word in the language.\n",
    "For this project, we decided not to use Stemming. This is because stemming may change the meaning of the words in the review. For example, the word “awful”, which can be easily understood as describing the product as bad and hence an adjective, will be reduced to “aw”, which is not an adjective. This is extremely critical as the goal is to find the occurrences of noun-adjective pairs. Therefore, we decided not to use stemming in order to keep the occurrences of noun-adjective pairs to be as true and accurate as possible."
   ]
  },
  {
   "cell_type": "markdown",
   "metadata": {
    "papermill": {
     "duration": 0.084467,
     "end_time": "2020-11-01T03:54:15.719256",
     "exception": false,
     "start_time": "2020-11-01T03:54:15.634789",
     "status": "completed"
    },
    "tags": []
   },
   "source": [
    "### 4.Identifying noun-adjective"
   ]
  },
  {
   "cell_type": "code",
   "execution_count": 16,
   "metadata": {
    "execution": {
     "iopub.execute_input": "2020-11-01T03:54:15.896403Z",
     "iopub.status.busy": "2020-11-01T03:54:15.895625Z",
     "iopub.status.idle": "2020-11-01T03:54:15.899520Z",
     "shell.execute_reply": "2020-11-01T03:54:15.898891Z"
    },
    "papermill": {
     "duration": 0.095072,
     "end_time": "2020-11-01T03:54:15.899655",
     "exception": false,
     "start_time": "2020-11-01T03:54:15.804583",
     "status": "completed"
    },
    "tags": []
   },
   "outputs": [],
   "source": [
    "data_reference=data_iphone.iloc[:,7]"
   ]
  },
  {
   "cell_type": "code",
   "execution_count": 17,
   "metadata": {
    "execution": {
     "iopub.execute_input": "2020-11-01T03:54:16.085885Z",
     "iopub.status.busy": "2020-11-01T03:54:16.084959Z",
     "iopub.status.idle": "2020-11-01T03:54:18.014112Z",
     "shell.execute_reply": "2020-11-01T03:54:18.013370Z"
    },
    "papermill": {
     "duration": 2.027265,
     "end_time": "2020-11-01T03:54:18.014252",
     "exception": false,
     "start_time": "2020-11-01T03:54:15.986987",
     "status": "completed"
    },
    "tags": []
   },
   "outputs": [],
   "source": [
    "nlp = spacy.load('en')\n",
    "noun_adj_pairs = []\n",
    "\n",
    "for i in range(len(data_reference)):\n",
    "    doc = nlp(data_reference[i])\n",
    "    for i,token in enumerate(doc):\n",
    "        if token.pos_ not in ('NOUN','PROPN'):\n",
    "            continue\n",
    "        for j in range(i+1,len(doc)):\n",
    "            if doc[j].pos_ == 'ADJ':\n",
    "                #list of tuples\n",
    "                noun_adj_pairs.append((str(token),str(doc[j])))\n",
    "                \n",
    "                break\n",
    "                \n",
    "#list of tuples to a list of lists\n",
    "out = [item for t in noun_adj_pairs for item in t] \n",
    "subList = [out[n:n+2] for n in range(0, len(out), 2)]\n",
    "\n",
    "new_list=list()\n",
    "\n",
    "#counting number of particular words for disaster tweets\n",
    "\n",
    "#list of strings\n",
    "for i in subList:\n",
    "    finalString = ','.join(i)\n",
    "    new_list.append(finalString)"
   ]
  },
  {
   "cell_type": "code",
   "execution_count": 18,
   "metadata": {
    "execution": {
     "iopub.execute_input": "2020-11-01T03:54:18.192349Z",
     "iopub.status.busy": "2020-11-01T03:54:18.191367Z",
     "iopub.status.idle": "2020-11-01T03:54:18.195206Z",
     "shell.execute_reply": "2020-11-01T03:54:18.196197Z"
    },
    "papermill": {
     "duration": 0.096371,
     "end_time": "2020-11-01T03:54:18.196412",
     "exception": false,
     "start_time": "2020-11-01T03:54:18.100041",
     "status": "completed"
    },
    "tags": []
   },
   "outputs": [
    {
     "name": "stdout",
     "output_type": "stream",
     "text": [
      "['phone,awful', 'phone,cool', 'hours,unresponsive', 'screen,unresponsive', 'phones,terrible', 'apple,terrible', 'amazon,terrible', 'guys,terrible', 'ball,terrible', 'phone,approachable', 'phone,approachable', 'work,approachable', 'costumer,approachable', 'service,approachable', 'quality,good', 'months,good', 'battery,protective', 'capacity,protective', 'screen,durable', 'phone,durable', 'screen,happy', 'protector,happy', 'hmmm,happy', 'dollars,unnoticeable', 'buying,unnoticeable', 'get,unnoticeable', 'protection,able', 'screen,able', 'woohoo,able', 'camera,able', 'game,able', 'videos,able', 'poppin,able', 'quality,great', 'interview,great', 'videos,great', 'accessories,new', 'device,new', 'asking,new', 'brand,new', 'features,overpriced', 'phone,overpriced', 'flaws,terrific', 'blemishes,terrific', 'condition,fast', 'phone,poor', 'nice,poor', 'charger,poor', 'cell,least', 'phone,least', 'switching,least', 'phone,great', 'phone,perfect', 'flaws,perfect', 'thanks,perfect', 'phone,worst', 'phones,worst', 'phone,worst', 'phone,last', 'years,much', 'phone,much', 'phone,decent', 'phone,bluetooth', 'regret,bluetooth', 'research,bluetooth', 'piece,bluetooth', 'junk,bluetooth', 'issues,bluetooth', 'devices,open', 'issues,open', 'files,open', 'wifi,open', 'finger,open', 'print,open', 'scanner,open', 'phone,open', 'times,overpriced', 'phone,overpriced', 'seconds,overpriced', 'screen,overpriced', 'light,overpriced', 'phone,overpriced', 'finger,overpriced', 'case,overpriced', 'phone,overpriced', 'issues,overpriced', 'phones,overpriced', 'issues,overpriced', 'phones,several', 'phone,several', 'generations,single', 'year,single', 'phones,single', 'switch,single', 'google,single', 'phones,single', 'samsung,single', 'galaxy,single', 'phone,single', 'check,single', 'phone,single', 'day,absolute', 'fact,absolute', 'phones,absolute', 'screen,absolute', 'photo,absolute', 'quality,absolute', 'garbage,advanced', 'samsung,advanced', 'phone,good', 'screen,good', 'samsung,close', 'fact,close', 'phone,close', 'picture,agonizing', 'quality,agonizing', 'months,excited', 'tomorrow,excited', 'note,excited', 'apple,future', 'player,future', 'industry,future', 'competition,future', 'phone,new', 'brand,new', 'phone,worth', 'months,worth', 'phone,worth', 'info,several', 'images,several', 'phone,several', 'apple,several', 'phone,several', 'days,non', 'phone,non', 'months,non', 'thing,free', 'purchase,original', 'phone,original', 'today,original', 'phone,original', 'phone,original', 'package,original', 'phone,original', 'charger,cheap', 'people,cheap', 'chargers,new', 'orders,new', 'case,new', 'order,new', 'brand,new', 'works,satisfied', 'phone,satisfied', 'phone,satisfied', 'brand,new', 'phone,old', 'scratch,old', 'screen,old', 'perfect,new', 'brand,new', 'works,great']\n"
     ]
    }
   ],
   "source": [
    "print(new_list)"
   ]
  },
  {
   "cell_type": "markdown",
   "metadata": {
    "papermill": {
     "duration": 0.086901,
     "end_time": "2020-11-01T03:54:18.369168",
     "exception": false,
     "start_time": "2020-11-01T03:54:18.282267",
     "status": "completed"
    },
    "tags": []
   },
   "source": [
    "### 5. Rank of < Noun – Adj > pairs from all the review documents"
   ]
  },
  {
   "cell_type": "code",
   "execution_count": 19,
   "metadata": {
    "execution": {
     "iopub.execute_input": "2020-11-01T03:54:18.562160Z",
     "iopub.status.busy": "2020-11-01T03:54:18.559965Z",
     "iopub.status.idle": "2020-11-01T03:54:18.754462Z",
     "shell.execute_reply": "2020-11-01T03:54:18.753698Z"
    },
    "papermill": {
     "duration": 0.299013,
     "end_time": "2020-11-01T03:54:18.754590",
     "exception": false,
     "start_time": "2020-11-01T03:54:18.455577",
     "status": "completed"
    },
    "tags": []
   },
   "outputs": [
    {
     "data": {
      "image/png": "[encoded data removed]",
      "text/plain": [
       "<Figure size 432x288 with 1 Axes>"
      ]
     },
     "metadata": {
      "needs_background": "light"
     },
     "output_type": "display_data"
    }
   ],
   "source": [
    "data=Counter(new_list).most_common(5)\n",
    "\n",
    "n_groups = len(data)\n",
    "\n",
    "vals_films = [x[1] for x in data]\n",
    "legends_films = [x[0] for x in data]\n",
    "\n",
    "fig, ax = plt.subplots()\n",
    "\n",
    "index = np.arange(n_groups)\n",
    "bar_width = 0.25\n",
    "\n",
    "opacity = 0.4\n",
    "\n",
    "rects1 = plt.bar(index, vals_films, bar_width,\n",
    "                 alpha=opacity,\n",
    "                 color='b',\n",
    "                 label='Ocurrences')\n",
    "\n",
    "\n",
    "plt.xlabel('Noun-Adjective Pair')\n",
    "plt.ylabel('# of occurance')\n",
    "plt.title('Occurrences of noun-adjective pair')\n",
    "plt.xticks(index + bar_width, legends_films)\n",
    "plt.xticks(rotation=90)\n",
    "plt.legend()\n",
    "\n",
    "plt.tight_layout()\n",
    "plt.show()"
   ]
  },
  {
   "cell_type": "markdown",
   "metadata": {
    "papermill": {
     "duration": 0.087169,
     "end_time": "2020-11-01T03:54:18.981553",
     "exception": false,
     "start_time": "2020-11-01T03:54:18.894384",
     "status": "completed"
    },
    "tags": []
   },
   "source": [
    "***Observations and remarks:***\n",
    "\n",
    "The top 5 ranked pairs are different from the ones that we had identified, with the exception of the pair “phone, overpriced”. Amongst the top 5 ranked pairs, 3 of the pairs are illogical. They are “brand, new”, “phone, several”, “phone, approachable”. \n",
    "\n",
    "This is because when we perform a manual search on the <noun,adj> pairs, we are able to understand the context of respective words in the review and identify meaningful pairs respective to the product well based on its context. However, the computer does not recognize the context of the words. It first identifies words that are noun using POS tagging and pairs words located after the noun, that are identified as adjectives by the POS tagger, to the respective noun. Therefore, most of the top 5 frequently occurring pairs are illogical.\n",
    "\n",
    "Another observation is that some words are misclassified by the POS tagger. For example, the word “brand” in “brand new” is misclassified as a noun instead of an adjective for brand new. This is understandable as the POS tagger only looks at the independent word and does not take into consideration of the context of the word. Therefore, this also explains the result of why the top 5 ranked pairs are different from the ones we had identified.\n",
    "\n",
    "***Challenges and areas of improvement:***\n",
    "\n",
    "A main challenge that we have is the handling of spelling errors. As previously mentioned in 2.3.2, we had tried using TextBlob to handle the error. However, it proved to be counter intuitive as TextBlob was not able to identify incorrectly spelled words and those that it correctly identified as incorrect was not able to be correctly corrected. Therefore, a possible solution to this problem would be build a personal dictionary on our own instead of using public libraries like TextBlob. This helps to achieve a more personalized dictionary that is tailored to the context, which in this case is iPhone reviews and hence more effective in handling spelling errors.\n",
    "Another challenge would be the determining of adjectives, which could be more than one word. An example would be the word “very good”. Currently the algorithm only registers the word “good” and pairs it up with the respective noun. Therefore, a possible solution would be to also factor in bigrams, which are two-word sequence of words, in addition to unigrams in the classification of adjectives. \n",
    "\n",
    "Furthermore, the dataset used is too small. With a small dataset, it will be difficult for us to find out the key noun-adj pairs. This is because just by having the same noun-adj pairs to appear more than 2 times, it would already be in the top 5 ranking pairs. Hence, having a bigger dataset can help us identify key noun-adj pairs better."
   ]
  },
  {
   "cell_type": "markdown",
   "metadata": {
    "papermill": {
     "duration": 0.086901,
     "end_time": "2020-11-01T03:54:19.157088",
     "exception": false,
     "start_time": "2020-11-01T03:54:19.070187",
     "status": "completed"
    },
    "tags": []
   },
   "source": [
    "# Part 3: Application\n",
    "\n",
    "We have decided to develop a simple application to classify the iPhone reviews stated in Section 3.2 and determine whether they are positive, neutral and negative based on their sentiments. Our *target* values, which is the sentiment type of the review, is labelled as *0, 1 and 2* for *negative, neutral and positive* respectively.\n",
    "\n",
    "We decided to use to libraries, TextBlob and VADER to compare the effectiveness in its determination of sentiment of our reviews. We specifically choose to use these two libraries instead of other machine learning algorithms such as logistic regression and support vector machines due to its advantage of not requiring training data. This is extremely critical as we have a very small dataset of only 30 rows and using a supervised machine learning model will most likely not be useful in determining sentiments as these models usually require large datasets to train and improve its respective machine learning model. "
   ]
  },
  {
   "cell_type": "code",
   "execution_count": 20,
   "metadata": {
    "execution": {
     "iopub.execute_input": "2020-11-01T03:54:19.343179Z",
     "iopub.status.busy": "2020-11-01T03:54:19.342404Z",
     "iopub.status.idle": "2020-11-01T03:54:19.345689Z",
     "shell.execute_reply": "2020-11-01T03:54:19.344943Z"
    },
    "papermill": {
     "duration": 0.100743,
     "end_time": "2020-11-01T03:54:19.345814",
     "exception": false,
     "start_time": "2020-11-01T03:54:19.245071",
     "status": "completed"
    },
    "tags": []
   },
   "outputs": [],
   "source": [
    "#0 is negative, 1 is neutral, 2 is positive\n",
    "def rating(number):\n",
    "    rating=number[:1]\n",
    "    rating=int(rating)\n",
    "    if(rating == 2 or rating == 1 or rating ==0):\n",
    "        return_rating= 0\n",
    "    elif(rating is 3):\n",
    "        return_rating= 1\n",
    "    else:\n",
    "        return_rating= 2\n",
    "    return return_rating\n",
    "    \n",
    "\n",
    "data_iphone['Target']=data_iphone['Rating'].map(lambda s:rating(s)) "
   ]
  },
  {
   "cell_type": "code",
   "execution_count": 21,
   "metadata": {
    "execution": {
     "iopub.execute_input": "2020-11-01T03:54:19.552954Z",
     "iopub.status.busy": "2020-11-01T03:54:19.541474Z",
     "iopub.status.idle": "2020-11-01T03:54:19.560163Z",
     "shell.execute_reply": "2020-11-01T03:54:19.560775Z"
    },
    "papermill": {
     "duration": 0.127132,
     "end_time": "2020-11-01T03:54:19.560946",
     "exception": false,
     "start_time": "2020-11-01T03:54:19.433814",
     "status": "completed"
    },
    "tags": []
   },
   "outputs": [
    {
     "data": {
      "text/html": [
       "<div>\n",
       "<style scoped>\n",
       "    .dataframe tbody tr th:only-of-type {\n",
       "        vertical-align: middle;\n",
       "    }\n",
       "\n",
       "    .dataframe tbody tr th {\n",
       "        vertical-align: top;\n",
       "    }\n",
       "\n",
       "    .dataframe thead th {\n",
       "        text-align: right;\n",
       "    }\n",
       "</style>\n",
       "<table border=\"1\" class=\"dataframe\">\n",
       "  <thead>\n",
       "    <tr style=\"text-align: right;\">\n",
       "      <th></th>\n",
       "      <th>Asin</th>\n",
       "      <th>UserName</th>\n",
       "      <th>Rating</th>\n",
       "      <th>Subject</th>\n",
       "      <th>ReviewDate</th>\n",
       "      <th>Review</th>\n",
       "      <th>replacedText</th>\n",
       "      <th>cleanText</th>\n",
       "      <th>Target</th>\n",
       "    </tr>\n",
       "  </thead>\n",
       "  <tbody>\n",
       "    <tr>\n",
       "      <th>0</th>\n",
       "      <td>B07Z4681LQ</td>\n",
       "      <td>Jacky</td>\n",
       "      <td>1.0 out of 5 stars</td>\n",
       "      <td>Terrible Product</td>\n",
       "      <td>Reviewed in the United States on June 9, 2020</td>\n",
       "      <td>This product is awful, it was cool for a few hours until the screen was completely unresponsive. Honestly I’ve bought refurbished phones before by Apple but these Amazon guys seem to really be dropping the ball. This is a terrible product and honestly now I just want my money back. Will not be purchasing any phones off Amazon ever again.</td>\n",
       "      <td>This phone is awful, phone was cool for a few hours until the screen was completely unresponsive. Honestly I’ve bought refurbished phones before by Apple but these Amazon guys seem to really be dropping the ball. This is a terrible phone and honestly now I just want my money back. Will not be purchasing any phones off Amazon ever again.</td>\n",
       "      <td>phone awful phone cool hours screen completely unresponsive honestly bought refurbished phones apple amazon guys seem really dropping ball terrible phone honestly want money back purchasing phones amazon ever</td>\n",
       "      <td>0</td>\n",
       "    </tr>\n",
       "    <tr>\n",
       "      <th>1</th>\n",
       "      <td>B07Z4681LQ</td>\n",
       "      <td>Amazon Customer</td>\n",
       "      <td>5.0 out of 5 stars</td>\n",
       "      <td>Good costumer service.</td>\n",
       "      <td>Reviewed in the United States on January 18, 2020</td>\n",
       "      <td>While I had to return the phone since it did not work as expected. I found that their costumer service was very approachable, and understanding.</td>\n",
       "      <td>While I had to return the phone since phone did not work as expected. I found that their costumer service was very approachable, and understanding.</td>\n",
       "      <td>return phone since phone work expected found costumer service approachable understanding</td>\n",
       "      <td>2</td>\n",
       "    </tr>\n",
       "    <tr>\n",
       "      <th>2</th>\n",
       "      <td>B07Z4681LQ</td>\n",
       "      <td>Judith Runyon</td>\n",
       "      <td>4.0 out of 5 stars</td>\n",
       "      <td>Great product with short battery life!</td>\n",
       "      <td>Reviewed in the United States on February 12, 2020</td>\n",
       "      <td>quality is very good overall.Batter life is not what it should be!</td>\n",
       "      <td>quality is very good overall.Batter life is not what phone should be!</td>\n",
       "      <td>quality good overall batter life phone</td>\n",
       "      <td>2</td>\n",
       "    </tr>\n",
       "    <tr>\n",
       "      <th>3</th>\n",
       "      <td>B07Z4681LQ</td>\n",
       "      <td>Dee B.</td>\n",
       "      <td>5.0 out of 5 stars</td>\n",
       "      <td>Pro max</td>\n",
       "      <td>Reviewed in the United States on February 15, 2020</td>\n",
       "      <td>Love the color. Have not fully used as of yet. Still learning how to use.</td>\n",
       "      <td>Love the color. Have not fully used as of yet. Still learning how to use.</td>\n",
       "      <td>love color fully used yet still learning use</td>\n",
       "      <td>2</td>\n",
       "    </tr>\n",
       "    <tr>\n",
       "      <th>4</th>\n",
       "      <td>B07Z4681LQ</td>\n",
       "      <td>Lili</td>\n",
       "      <td>5.0 out of 5 stars</td>\n",
       "      <td>I got what i paid for</td>\n",
       "      <td>Reviewed in the United States on August 21, 2020</td>\n",
       "      <td>2 months in... so far so good. Battery capacity was at 100% when I received it. It came with a protective screen on it. Upon taking it off for a more durable screen protector I noticed there were scratches. HMMM... wasn’t too happy about that. But I did save $$$ of dollars buying this renewed. I’ll take what I can get. Scratched are completely unnoticeable when protection screen is on. Woohoo!! Camera game has totally upgraded. 4K videos are poppin! I was able to send high quality interview videos and create great group project videos.</td>\n",
       "      <td>2 months in... so far so good. Battery capacity was at 100% when I received it. It came with a protective screen on it. Upon taking phone off for a more durable screen protector I noticed there were scratches. HMMM... wasn’t too happy about that. But I did save $$$ of dollars buying this renewed. I’ll take what I can get. Scratched are completely unnoticeable when protection screen is on. Woohoo!! Camera game has totally upgraded. 4K videos are poppin! I was able to send high quality interview videos and create great group project videos.</td>\n",
       "      <td>months far good battery capacity received came protective screen upon taking phone durable screen protector noticed scratches hmmm happy save dollars buying renewed take get scratched completely unnoticeable protection screen woohoo camera game totally upgraded videos poppin able send high quality interview videos create great group project videos</td>\n",
       "      <td>2</td>\n",
       "    </tr>\n",
       "    <tr>\n",
       "      <th>5</th>\n",
       "      <td>B07Z4681LQ</td>\n",
       "      <td>MyWifeN4Kidz</td>\n",
       "      <td>3.0 out of 5 stars</td>\n",
       "      <td>Not to happy.</td>\n",
       "      <td>Reviewed in the United States on June 30, 2020</td>\n",
       "      <td>I’m mainly upset they took all the original accessories that come with the device especially at how much they are asking for. Could have gotten one brand new with all the accessories for about the same price.</td>\n",
       "      <td>I’m mainly upset they took all the original accessories that come with the device especially at how much they are asking for. Could have gotten one brand new with all the accessories for about the same price.</td>\n",
       "      <td>mainly upset took original accessories come device especially much asking could gotten one brand new accessories price</td>\n",
       "      <td>1</td>\n",
       "    </tr>\n",
       "    <tr>\n",
       "      <th>6</th>\n",
       "      <td>B07Z4681LQ</td>\n",
       "      <td>Kisorkumar Varadarajan</td>\n",
       "      <td>4.0 out of 5 stars</td>\n",
       "      <td>Good phone</td>\n",
       "      <td>Reviewed in the United States on June 4, 2020</td>\n",
       "      <td>Good features. But felt it's overpriced</td>\n",
       "      <td>Good features. But felt phone overpriced</td>\n",
       "      <td>good features felt phone overpriced</td>\n",
       "      <td>2</td>\n",
       "    </tr>\n",
       "    <tr>\n",
       "      <th>7</th>\n",
       "      <td>B07Z4681LQ</td>\n",
       "      <td>scott spieler</td>\n",
       "      <td>5.0 out of 5 stars</td>\n",
       "      <td>I would buy from them again</td>\n",
       "      <td>Reviewed in the United States on June 9, 2020</td>\n",
       "      <td>It was as promised no flaws no blemishes , it was a terrific experience</td>\n",
       "      <td>It was as promised no flaws no blemishes , phone was a terrific experience</td>\n",
       "      <td>promised flaws blemishes phone terrific experience</td>\n",
       "      <td>2</td>\n",
       "    </tr>\n",
       "    <tr>\n",
       "      <th>8</th>\n",
       "      <td>B07Z4681LQ</td>\n",
       "      <td>ali  s mousavi</td>\n",
       "      <td>3.0 out of 5 stars</td>\n",
       "      <td>one of the camera not working good</td>\n",
       "      <td>Reviewed in the United States on July 15, 2020</td>\n",
       "      <td>camera issues on I phone 11 pro max one of the camera has line and scratch on the face you cored with callas for pretention I couldn't see the scratch for the price I paid not worded</td>\n",
       "      <td>camera issues on I phone 11 pro max one of the camera has line and scratch on the face you cored with callas for pretention I couldn't see the scratch for the price I paid not worded</td>\n",
       "      <td>camera issues phone pro max one camera line scratch face cored callas pretention see scratch price paid worded</td>\n",
       "      <td>1</td>\n",
       "    </tr>\n",
       "    <tr>\n",
       "      <th>9</th>\n",
       "      <td>B07Z4681LQ</td>\n",
       "      <td>Jhonny Wylker</td>\n",
       "      <td>5.0 out of 5 stars</td>\n",
       "      <td>so far so good</td>\n",
       "      <td>Reviewed in the United States on August 21, 2020</td>\n",
       "      <td>everything is working perfectly</td>\n",
       "      <td>everything is working perfectly</td>\n",
       "      <td>everything working perfectly</td>\n",
       "      <td>2</td>\n",
       "    </tr>\n",
       "    <tr>\n",
       "      <th>10</th>\n",
       "      <td>B07Z4681LQ</td>\n",
       "      <td>Amazon Customer</td>\n",
       "      <td>5.0 out of 5 stars</td>\n",
       "      <td>Love it!</td>\n",
       "      <td>Reviewed in the United States on September 30, 2020</td>\n",
       "      <td>Perfect condition and shipped extremely fast</td>\n",
       "      <td>Perfect condition and shipped extremely fast</td>\n",
       "      <td>perfect condition shipped extremely fast</td>\n",
       "      <td>2</td>\n",
       "    </tr>\n",
       "    <tr>\n",
       "      <th>11</th>\n",
       "      <td>B07Z4681LQ</td>\n",
       "      <td>Jorge Ivan Franco Florez</td>\n",
       "      <td>5.0 out of 5 stars</td>\n",
       "      <td>Its a very good dealer and product</td>\n",
       "      <td>Reviewed in the United States on July 6, 2020</td>\n",
       "      <td>Smartphone as a new one, and all the features works perfectly!!</td>\n",
       "      <td>phone as a new one, and all the features works perfectly!!</td>\n",
       "      <td>phone new one features works perfectly</td>\n",
       "      <td>2</td>\n",
       "    </tr>\n",
       "    <tr>\n",
       "      <th>12</th>\n",
       "      <td>B07Z4681LQ</td>\n",
       "      <td>Simona Ruxandra</td>\n",
       "      <td>5.0 out of 5 stars</td>\n",
       "      <td>Great phone</td>\n",
       "      <td>Reviewed in the United States on May 21, 2020</td>\n",
       "      <td>An Apple product never disappoints. Love it!</td>\n",
       "      <td>An Apple phone never disappoints. Love it!</td>\n",
       "      <td>apple phone never disappoints love</td>\n",
       "      <td>2</td>\n",
       "    </tr>\n",
       "    <tr>\n",
       "      <th>13</th>\n",
       "      <td>B07Z4681LQ</td>\n",
       "      <td>Alma Sarmiento</td>\n",
       "      <td>5.0 out of 5 stars</td>\n",
       "      <td>I would recommend</td>\n",
       "      <td>Reviewed in the United States on May 16, 2020</td>\n",
       "      <td>Such a beautiful phone</td>\n",
       "      <td>Such a beautiful phone</td>\n",
       "      <td>beautiful phone</td>\n",
       "      <td>2</td>\n",
       "    </tr>\n",
       "    <tr>\n",
       "      <th>14</th>\n",
       "      <td>B07Z4681LQ</td>\n",
       "      <td>Prem Addada</td>\n",
       "      <td>4.0 out of 5 stars</td>\n",
       "      <td>Charger is not in good shape</td>\n",
       "      <td>Reviewed in the United States on June 23, 2020</td>\n",
       "      <td>The phone is so nice but I got the charger with poor quality.</td>\n",
       "      <td>The phone is so nice but I got the charger with poor quality.</td>\n",
       "      <td>phone nice got charger poor quality</td>\n",
       "      <td>2</td>\n",
       "    </tr>\n",
       "    <tr>\n",
       "      <th>15</th>\n",
       "      <td>B07Z4681LQ</td>\n",
       "      <td>Riya K.</td>\n",
       "      <td>2.0 out of 5 stars</td>\n",
       "      <td>Dead camera</td>\n",
       "      <td>Reviewed in the United States on July 11, 2020</td>\n",
       "      <td>This iPhone camera is not even working!!!everything else works ig.</td>\n",
       "      <td>This phone camera is not even working!!!everything else works ig.</td>\n",
       "      <td>phone camera even working everything else works</td>\n",
       "      <td>0</td>\n",
       "    </tr>\n",
       "    <tr>\n",
       "      <th>16</th>\n",
       "      <td>B07Z4681LQ</td>\n",
       "      <td>Gilmara santos</td>\n",
       "      <td>2.0 out of 5 stars</td>\n",
       "      <td>the cell phone is switching off at least 3 times a day.  I am very disappointed</td>\n",
       "      <td>Reviewed in the United States on August 23, 2020</td>\n",
       "      <td>the cell phone is switching off at least 3 times a day.  I am very disappointed</td>\n",
       "      <td>the cell phone is switching off at least 3 times a day.  I am very disappointed</td>\n",
       "      <td>cell phone switching least times day disappointed</td>\n",
       "      <td>0</td>\n",
       "    </tr>\n",
       "    <tr>\n",
       "      <th>17</th>\n",
       "      <td>B07Z4681LQ</td>\n",
       "      <td>Chidubem Oparaoji</td>\n",
       "      <td>5.0 out of 5 stars</td>\n",
       "      <td>Quality</td>\n",
       "      <td>Reviewed in the United States on July 2, 2020</td>\n",
       "      <td>This phone is of great quality. Can't wait for iOS 14 to debut!</td>\n",
       "      <td>This phone is of great quality. Can't wait for iOS 14 to debut!</td>\n",
       "      <td>phone great quality wait ios debut</td>\n",
       "      <td>2</td>\n",
       "    </tr>\n",
       "    <tr>\n",
       "      <th>18</th>\n",
       "      <td>B07Z4681LQ</td>\n",
       "      <td>ryan ray degraaf</td>\n",
       "      <td>5.0 out of 5 stars</td>\n",
       "      <td>Exactly like brand new</td>\n",
       "      <td>Reviewed in the United States on August 8, 2020</td>\n",
       "      <td>Beautiful phone. No flaws at all. Works perfect!!!</td>\n",
       "      <td>Beautiful phone. No flaws at all. Works perfect!!!</td>\n",
       "      <td>beautiful phone flaws works perfect</td>\n",
       "      <td>2</td>\n",
       "    </tr>\n",
       "    <tr>\n",
       "      <th>19</th>\n",
       "      <td>B07Z4681LQ</td>\n",
       "      <td>Abdelrahman</td>\n",
       "      <td>5.0 out of 5 stars</td>\n",
       "      <td>Great phone</td>\n",
       "      <td>Reviewed in the United States on August 13, 2020</td>\n",
       "      <td>Thanks , perfect mobile</td>\n",
       "      <td>Thanks , perfect mobile</td>\n",
       "      <td>thanks perfect mobile</td>\n",
       "      <td>2</td>\n",
       "    </tr>\n",
       "  </tbody>\n",
       "</table>\n",
       "</div>"
      ],
      "text/plain": [
       "          Asin                  UserName              Rating  \\\n",
       "0   B07Z4681LQ                     Jacky  1.0 out of 5 stars   \n",
       "1   B07Z4681LQ           Amazon Customer  5.0 out of 5 stars   \n",
       "2   B07Z4681LQ             Judith Runyon  4.0 out of 5 stars   \n",
       "3   B07Z4681LQ                    Dee B.  5.0 out of 5 stars   \n",
       "4   B07Z4681LQ                      Lili  5.0 out of 5 stars   \n",
       "5   B07Z4681LQ              MyWifeN4Kidz  3.0 out of 5 stars   \n",
       "6   B07Z4681LQ    Kisorkumar Varadarajan  4.0 out of 5 stars   \n",
       "7   B07Z4681LQ             scott spieler  5.0 out of 5 stars   \n",
       "8   B07Z4681LQ            ali  s mousavi  3.0 out of 5 stars   \n",
       "9   B07Z4681LQ             Jhonny Wylker  5.0 out of 5 stars   \n",
       "10  B07Z4681LQ           Amazon Customer  5.0 out of 5 stars   \n",
       "11  B07Z4681LQ  Jorge Ivan Franco Florez  5.0 out of 5 stars   \n",
       "12  B07Z4681LQ           Simona Ruxandra  5.0 out of 5 stars   \n",
       "13  B07Z4681LQ            Alma Sarmiento  5.0 out of 5 stars   \n",
       "14  B07Z4681LQ               Prem Addada  4.0 out of 5 stars   \n",
       "15  B07Z4681LQ                   Riya K.  2.0 out of 5 stars   \n",
       "16  B07Z4681LQ            Gilmara santos  2.0 out of 5 stars   \n",
       "17  B07Z4681LQ         Chidubem Oparaoji  5.0 out of 5 stars   \n",
       "18  B07Z4681LQ          ryan ray degraaf  5.0 out of 5 stars   \n",
       "19  B07Z4681LQ               Abdelrahman  5.0 out of 5 stars   \n",
       "\n",
       "                                                                            Subject  \\\n",
       "0                                                                  Terrible Product   \n",
       "1                                                            Good costumer service.   \n",
       "2                                            Great product with short battery life!   \n",
       "3                                                                           Pro max   \n",
       "4                                                             I got what i paid for   \n",
       "5                                                                     Not to happy.   \n",
       "6                                                                        Good phone   \n",
       "7                                                       I would buy from them again   \n",
       "8                                                one of the camera not working good   \n",
       "9                                                                    so far so good   \n",
       "10                                                                         Love it!   \n",
       "11                                               Its a very good dealer and product   \n",
       "12                                                                      Great phone   \n",
       "13                                                                I would recommend   \n",
       "14                                                     Charger is not in good shape   \n",
       "15                                                                      Dead camera   \n",
       "16  the cell phone is switching off at least 3 times a day.  I am very disappointed   \n",
       "17                                                                          Quality   \n",
       "18                                                           Exactly like brand new   \n",
       "19                                                                      Great phone   \n",
       "\n",
       "                                             ReviewDate  \\\n",
       "0         Reviewed in the United States on June 9, 2020   \n",
       "1     Reviewed in the United States on January 18, 2020   \n",
       "2    Reviewed in the United States on February 12, 2020   \n",
       "3    Reviewed in the United States on February 15, 2020   \n",
       "4      Reviewed in the United States on August 21, 2020   \n",
       "5        Reviewed in the United States on June 30, 2020   \n",
       "6         Reviewed in the United States on June 4, 2020   \n",
       "7         Reviewed in the United States on June 9, 2020   \n",
       "8        Reviewed in the United States on July 15, 2020   \n",
       "9      Reviewed in the United States on August 21, 2020   \n",
       "10  Reviewed in the United States on September 30, 2020   \n",
       "11        Reviewed in the United States on July 6, 2020   \n",
       "12        Reviewed in the United States on May 21, 2020   \n",
       "13        Reviewed in the United States on May 16, 2020   \n",
       "14       Reviewed in the United States on June 23, 2020   \n",
       "15       Reviewed in the United States on July 11, 2020   \n",
       "16     Reviewed in the United States on August 23, 2020   \n",
       "17        Reviewed in the United States on July 2, 2020   \n",
       "18      Reviewed in the United States on August 8, 2020   \n",
       "19     Reviewed in the United States on August 13, 2020   \n",
       "\n",
       "                                                                                                                                                                                                                                                                                                                                                                                                                                                                                                                                                           Review  \\\n",
       "0                                                                                                                                                                                                             This product is awful, it was cool for a few hours until the screen was completely unresponsive. Honestly I’ve bought refurbished phones before by Apple but these Amazon guys seem to really be dropping the ball. This is a terrible product and honestly now I just want my money back. Will not be purchasing any phones off Amazon ever again.   \n",
       "1                                                                                                                                                                                                                                                                                                                                                                                                                While I had to return the phone since it did not work as expected. I found that their costumer service was very approachable, and understanding.   \n",
       "2                                                                                                                                                                                                                                                                                                                                                                                                                                                                                              quality is very good overall.Batter life is not what it should be!   \n",
       "3                                                                                                                                                                                                                                                                                                                                                                                                                                                                                       Love the color. Have not fully used as of yet. Still learning how to use.   \n",
       "4   2 months in... so far so good. Battery capacity was at 100% when I received it. It came with a protective screen on it. Upon taking it off for a more durable screen protector I noticed there were scratches. HMMM... wasn’t too happy about that. But I did save $$$ of dollars buying this renewed. I’ll take what I can get. Scratched are completely unnoticeable when protection screen is on. Woohoo!! Camera game has totally upgraded. 4K videos are poppin! I was able to send high quality interview videos and create great group project videos.   \n",
       "5                                                                                                                                                                                                                                                                                                                                                I’m mainly upset they took all the original accessories that come with the device especially at how much they are asking for. Could have gotten one brand new with all the accessories for about the same price.   \n",
       "6                                                                                                                                                                                                                                                                                                                                                                                                                                                                                                                         Good features. But felt it's overpriced   \n",
       "7                                                                                                                                                                                                                                                                                                                                                                                                                                                                                         It was as promised no flaws no blemishes , it was a terrific experience   \n",
       "8                                                                                                                                                                                                                                                                                                                                                                          camera issues on I phone 11 pro max one of the camera has line and scratch on the face you cored with callas for pretention I couldn't see the scratch for the price I paid not worded   \n",
       "9                                                                                                                                                                                                                                                                                                                                                                                                                                                                                                                                 everything is working perfectly   \n",
       "10                                                                                                                                                                                                                                                                                                                                                                                                                                                                                                                   Perfect condition and shipped extremely fast   \n",
       "11                                                                                                                                                                                                                                                                                                                                                                                                                                                                                                Smartphone as a new one, and all the features works perfectly!!   \n",
       "12                                                                                                                                                                                                                                                                                                                                                                                                                                                                                                                   An Apple product never disappoints. Love it!   \n",
       "13                                                                                                                                                                                                                                                                                                                                                                                                                                                                                                                                         Such a beautiful phone   \n",
       "14                                                                                                                                                                                                                                                                                                                                                                                                                                                                                                  The phone is so nice but I got the charger with poor quality.   \n",
       "15                                                                                                                                                                                                                                                                                                                                                                                                                                                                                             This iPhone camera is not even working!!!everything else works ig.   \n",
       "16                                                                                                                                                                                                                                                                                                                                                                                                                                                                                the cell phone is switching off at least 3 times a day.  I am very disappointed   \n",
       "17                                                                                                                                                                                                                                                                                                                                                                                                                                                                                                This phone is of great quality. Can't wait for iOS 14 to debut!   \n",
       "18                                                                                                                                                                                                                                                                                                                                                                                                                                                                                                             Beautiful phone. No flaws at all. Works perfect!!!   \n",
       "19                                                                                                                                                                                                                                                                                                                                                                                                                                                                                                                                        Thanks , perfect mobile   \n",
       "\n",
       "                                                                                                                                                                                                                                                                                                                                                                                                                                                                                                                                                        replacedText  \\\n",
       "0                                                                                                                                                                                                                 This phone is awful, phone was cool for a few hours until the screen was completely unresponsive. Honestly I’ve bought refurbished phones before by Apple but these Amazon guys seem to really be dropping the ball. This is a terrible phone and honestly now I just want my money back. Will not be purchasing any phones off Amazon ever again.   \n",
       "1                                                                                                                                                                                                                                                                                                                                                                                                                While I had to return the phone since phone did not work as expected. I found that their costumer service was very approachable, and understanding.   \n",
       "2                                                                                                                                                                                                                                                                                                                                                                                                                                                                                              quality is very good overall.Batter life is not what phone should be!   \n",
       "3                                                                                                                                                                                                                                                                                                                                                                                                                                                                                          Love the color. Have not fully used as of yet. Still learning how to use.   \n",
       "4   2 months in... so far so good. Battery capacity was at 100% when I received it. It came with a protective screen on it. Upon taking phone off for a more durable screen protector I noticed there were scratches. HMMM... wasn’t too happy about that. But I did save $$$ of dollars buying this renewed. I’ll take what I can get. Scratched are completely unnoticeable when protection screen is on. Woohoo!! Camera game has totally upgraded. 4K videos are poppin! I was able to send high quality interview videos and create great group project videos.   \n",
       "5                                                                                                                                                                                                                                                                                                                                                   I’m mainly upset they took all the original accessories that come with the device especially at how much they are asking for. Could have gotten one brand new with all the accessories for about the same price.   \n",
       "6                                                                                                                                                                                                                                                                                                                                                                                                                                                                                                                           Good features. But felt phone overpriced   \n",
       "7                                                                                                                                                                                                                                                                                                                                                                                                                                                                                         It was as promised no flaws no blemishes , phone was a terrific experience   \n",
       "8                                                                                                                                                                                                                                                                                                                                                                             camera issues on I phone 11 pro max one of the camera has line and scratch on the face you cored with callas for pretention I couldn't see the scratch for the price I paid not worded   \n",
       "9                                                                                                                                                                                                                                                                                                                                                                                                                                                                                                                                    everything is working perfectly   \n",
       "10                                                                                                                                                                                                                                                                                                                                                                                                                                                                                                                      Perfect condition and shipped extremely fast   \n",
       "11                                                                                                                                                                                                                                                                                                                                                                                                                                                                                                        phone as a new one, and all the features works perfectly!!   \n",
       "12                                                                                                                                                                                                                                                                                                                                                                                                                                                                                                                        An Apple phone never disappoints. Love it!   \n",
       "13                                                                                                                                                                                                                                                                                                                                                                                                                                                                                                                                            Such a beautiful phone   \n",
       "14                                                                                                                                                                                                                                                                                                                                                                                                                                                                                                     The phone is so nice but I got the charger with poor quality.   \n",
       "15                                                                                                                                                                                                                                                                                                                                                                                                                                                                                                 This phone camera is not even working!!!everything else works ig.   \n",
       "16                                                                                                                                                                                                                                                                                                                                                                                                                                                                                   the cell phone is switching off at least 3 times a day.  I am very disappointed   \n",
       "17                                                                                                                                                                                                                                                                                                                                                                                                                                                                                                   This phone is of great quality. Can't wait for iOS 14 to debut!   \n",
       "18                                                                                                                                                                                                                                                                                                                                                                                                                                                                                                                Beautiful phone. No flaws at all. Works perfect!!!   \n",
       "19                                                                                                                                                                                                                                                                                                                                                                                                                                                                                                                                           Thanks , perfect mobile   \n",
       "\n",
       "                                                                                                                                                                                                                                                                                                                                                        cleanText  \\\n",
       "0                                                                                                                                                phone awful phone cool hours screen completely unresponsive honestly bought refurbished phones apple amazon guys seem really dropping ball terrible phone honestly want money back purchasing phones amazon ever   \n",
       "1                                                                                                                                                                                                                                                                        return phone since phone work expected found costumer service approachable understanding   \n",
       "2                                                                                                                                                                                                                                                                                                                          quality good overall batter life phone   \n",
       "3                                                                                                                                                                                                                                                                                                                    love color fully used yet still learning use   \n",
       "4   months far good battery capacity received came protective screen upon taking phone durable screen protector noticed scratches hmmm happy save dollars buying renewed take get scratched completely unnoticeable protection screen woohoo camera game totally upgraded videos poppin able send high quality interview videos create great group project videos   \n",
       "5                                                                                                                                                                                                                                          mainly upset took original accessories come device especially much asking could gotten one brand new accessories price   \n",
       "6                                                                                                                                                                                                                                                                                                                             good features felt phone overpriced   \n",
       "7                                                                                                                                                                                                                                                                                                              promised flaws blemishes phone terrific experience   \n",
       "8                                                                                                                                                                                                                                                  camera issues phone pro max one camera line scratch face cored callas pretention see scratch price paid worded   \n",
       "9                                                                                                                                                                                                                                                                                                                                    everything working perfectly   \n",
       "10                                                                                                                                                                                                                                                                                                                       perfect condition shipped extremely fast   \n",
       "11                                                                                                                                                                                                                                                                                                                         phone new one features works perfectly   \n",
       "12                                                                                                                                                                                                                                                                                                                             apple phone never disappoints love   \n",
       "13                                                                                                                                                                                                                                                                                                                                                beautiful phone   \n",
       "14                                                                                                                                                                                                                                                                                                                            phone nice got charger poor quality   \n",
       "15                                                                                                                                                                                                                                                                                                                phone camera even working everything else works   \n",
       "16                                                                                                                                                                                                                                                                                                              cell phone switching least times day disappointed   \n",
       "17                                                                                                                                                                                                                                                                                                                             phone great quality wait ios debut   \n",
       "18                                                                                                                                                                                                                                                                                                                            beautiful phone flaws works perfect   \n",
       "19                                                                                                                                                                                                                                                                                                                                          thanks perfect mobile   \n",
       "\n",
       "    Target  \n",
       "0        0  \n",
       "1        2  \n",
       "2        2  \n",
       "3        2  \n",
       "4        2  \n",
       "5        1  \n",
       "6        2  \n",
       "7        2  \n",
       "8        1  \n",
       "9        2  \n",
       "10       2  \n",
       "11       2  \n",
       "12       2  \n",
       "13       2  \n",
       "14       2  \n",
       "15       0  \n",
       "16       0  \n",
       "17       2  \n",
       "18       2  \n",
       "19       2  "
      ]
     },
     "execution_count": 21,
     "metadata": {},
     "output_type": "execute_result"
    }
   ],
   "source": [
    "data_iphone.head(20)"
   ]
  },
  {
   "cell_type": "markdown",
   "metadata": {
    "papermill": {
     "duration": 0.088761,
     "end_time": "2020-11-01T03:54:19.738981",
     "exception": false,
     "start_time": "2020-11-01T03:54:19.650220",
     "status": "completed"
    },
    "tags": []
   },
   "source": [
    "## Is the dataset balanced?"
   ]
  },
  {
   "cell_type": "code",
   "execution_count": 22,
   "metadata": {
    "execution": {
     "iopub.execute_input": "2020-11-01T03:54:19.940274Z",
     "iopub.status.busy": "2020-11-01T03:54:19.931814Z",
     "iopub.status.idle": "2020-11-01T03:54:20.092996Z",
     "shell.execute_reply": "2020-11-01T03:54:20.093596Z"
    },
    "papermill": {
     "duration": 0.263396,
     "end_time": "2020-11-01T03:54:20.093751",
     "exception": false,
     "start_time": "2020-11-01T03:54:19.830355",
     "status": "completed"
    },
    "tags": []
   },
   "outputs": [
    {
     "data": {
      "text/plain": [
       "<matplotlib.axes._subplots.AxesSubplot at 0x7f3ad21f6b10>"
      ]
     },
     "execution_count": 22,
     "metadata": {},
     "output_type": "execute_result"
    },
    {
     "data": {
      "image/png": "[encoded data removed]",
      "text/plain": [
       "<Figure size 432x288 with 1 Axes>"
      ]
     },
     "metadata": {
      "needs_background": "light"
     },
     "output_type": "display_data"
    }
   ],
   "source": [
    "results=data_iphone.groupby('Target').count()['Asin']\n",
    "\n",
    "results_1=results.to_frame()\n",
    "results_1.plot.bar()"
   ]
  },
  {
   "cell_type": "markdown",
   "metadata": {
    "papermill": {
     "duration": 0.091054,
     "end_time": "2020-11-01T03:54:20.276120",
     "exception": false,
     "start_time": "2020-11-01T03:54:20.185066",
     "status": "completed"
    },
    "tags": []
   },
   "source": [
    "## TextBlob\n",
    "\n",
    "We used TextBlob again to determine the sentiment of the reviews. TextBlob uses a sentiment lexicon, which consists of predefined words, to assign scores for each word. Using a weighted average, the scores are then averaged out to produce an overall sentence sentiment score. For each word, three scores: “polarity”, “subjectivity” and “intensity” are calculated. In this case, we will use the polarity attribute. The polarity attribute ranges from –1 to 1. \n",
    "\n",
    "| Polarity | Sentiment| \n",
    "| -- | -- |\n",
    "| Polarity score < -0.05  | Negative | \n",
    "| -0.05 <= Polarity score <=0.05   | Neutral   | \n",
    "| Polarity score > 0.05   | Positive | \n",
    "\n"
   ]
  },
  {
   "cell_type": "code",
   "execution_count": 23,
   "metadata": {
    "execution": {
     "iopub.execute_input": "2020-11-01T03:54:20.468663Z",
     "iopub.status.busy": "2020-11-01T03:54:20.467678Z",
     "iopub.status.idle": "2020-11-01T03:54:20.557331Z",
     "shell.execute_reply": "2020-11-01T03:54:20.556702Z"
    },
    "papermill": {
     "duration": 0.190361,
     "end_time": "2020-11-01T03:54:20.557474",
     "exception": false,
     "start_time": "2020-11-01T03:54:20.367113",
     "status": "completed"
    },
    "tags": []
   },
   "outputs": [],
   "source": [
    "def textblob(sentence):\n",
    "    textblob_sentence=str(sentence)\n",
    "    textblob_answer=TextBlob(textblob_sentence).sentiment.polarity\n",
    "    if(textblob_answer>0.05):\n",
    "        return_rating= 2\n",
    "    elif(textblob_answer<-0.05):\n",
    "        return_rating= 0\n",
    "    else:\n",
    "        return_rating= 1\n",
    "    return return_rating\n",
    "    \n",
    "\n",
    "data_iphone['Text_Blob']=data_iphone['Review'].map(lambda s:textblob(s)) "
   ]
  },
  {
   "cell_type": "markdown",
   "metadata": {
    "papermill": {
     "duration": 0.092362,
     "end_time": "2020-11-01T03:54:20.741218",
     "exception": false,
     "start_time": "2020-11-01T03:54:20.648856",
     "status": "completed"
    },
    "tags": []
   },
   "source": [
    "General function for the Confusion matrix that is used"
   ]
  },
  {
   "cell_type": "code",
   "execution_count": 24,
   "metadata": {
    "execution": {
     "iopub.execute_input": "2020-11-01T03:54:20.943635Z",
     "iopub.status.busy": "2020-11-01T03:54:20.942800Z",
     "iopub.status.idle": "2020-11-01T03:54:20.946309Z",
     "shell.execute_reply": "2020-11-01T03:54:20.945581Z"
    },
    "papermill": {
     "duration": 0.112743,
     "end_time": "2020-11-01T03:54:20.946461",
     "exception": false,
     "start_time": "2020-11-01T03:54:20.833718",
     "status": "completed"
    },
    "tags": []
   },
   "outputs": [],
   "source": [
    "def plot_confusion_matrix(y_true, y_pred,Title,\n",
    "                          classes=[0, 1, 2],\n",
    "                          normalize=False,\n",
    "                          cmap=plt.cm.YlOrBr):\n",
    "    \"\"\"\n",
    "    This function prints and plots the confusion matrix.\n",
    "    Normalization can be applied by setting `normalize=True`.\n",
    "    (Adapted from scikit-learn docs).\n",
    "    \"\"\"\n",
    "    # Compute confusion matrix\n",
    "    cm = confusion_matrix(y_true, y_pred)\n",
    "\n",
    "    if normalize:\n",
    "        cm = cm.astype('float') / cm.sum(axis=1)[:, np.newaxis]\n",
    "\n",
    "    fig, ax = plt.subplots()\n",
    "    im = ax.imshow(cm, interpolation='nearest', origin='lower', cmap=cmap)\n",
    "    ax.figure.colorbar(im, ax=ax)\n",
    "    # Show all ticks\n",
    "    ax.set(xticks=np.arange(cm.shape[1]),\n",
    "           yticks=np.arange(cm.shape[0]),\n",
    "           # Label with respective list entries\n",
    "           xticklabels=classes, yticklabels=classes,\n",
    "           ylabel='True label',\n",
    "           xlabel='Predicted label')\n",
    "\n",
    "    # Set alignment of tick labels\n",
    "    plt.setp(ax.get_xticklabels(), rotation=0, ha=\"right\",\n",
    "             rotation_mode=\"anchor\")\n",
    "    plt.title(Title)\n",
    "\n",
    "    # Loop over data dimensions and create text annotations\n",
    "    fmt = '.2f' if normalize else 'd'\n",
    "    thresh = cm.max() / 2.\n",
    "    for i in range(cm.shape[0]):\n",
    "        for j in range(cm.shape[1]):\n",
    "            ax.text(j, i, format(cm[i, j], fmt),\n",
    "                    ha=\"center\", va=\"center\",\n",
    "                    color=\"white\" if cm[i, j] > thresh else \"black\")\n",
    "    return fig, ax"
   ]
  },
  {
   "cell_type": "code",
   "execution_count": 25,
   "metadata": {
    "execution": {
     "iopub.execute_input": "2020-11-01T03:54:21.153286Z",
     "iopub.status.busy": "2020-11-01T03:54:21.151139Z",
     "iopub.status.idle": "2020-11-01T03:54:21.530057Z",
     "shell.execute_reply": "2020-11-01T03:54:21.529386Z"
    },
    "papermill": {
     "duration": 0.490068,
     "end_time": "2020-11-01T03:54:21.530183",
     "exception": false,
     "start_time": "2020-11-01T03:54:21.040115",
     "status": "completed"
    },
    "tags": []
   },
   "outputs": [
    {
     "data": {
      "image/png": "[encoded data removed]",
      "text/plain": [
       "<Figure size 432x288 with 2 Axes>"
      ]
     },
     "metadata": {
      "needs_background": "light"
     },
     "output_type": "display_data"
    },
    {
     "data": {
      "image/png": "[encoded data removed]",
      "text/plain": [
       "<Figure size 432x288 with 2 Axes>"
      ]
     },
     "metadata": {
      "needs_background": "light"
     },
     "output_type": "display_data"
    }
   ],
   "source": [
    "y_true=pd.Series(data_iphone['Target']).array\n",
    "y_pred=pd.Series(data_iphone['Text_Blob']).array\n",
    "\n",
    "textblob=[(\"TextBlob: Normalised Confusion Matrix\", True),(\"TextBlob: Confusion Matrix without normalisation\", False)]\n",
    "for Title,normalise in textblob:\n",
    "    disp=plot_confusion_matrix(y_true,y_pred,Title, classes=[0, 1, 2],normalize=normalise,cmap=plt.cm.YlOrBr)"
   ]
  },
  {
   "cell_type": "markdown",
   "metadata": {
    "papermill": {
     "duration": 0.093103,
     "end_time": "2020-11-01T03:54:21.716487",
     "exception": false,
     "start_time": "2020-11-01T03:54:21.623384",
     "status": "completed"
    },
    "tags": []
   },
   "source": [
    "***Observations and remarks:***\n",
    "\n",
    "Even though it can predict positive and neutral sentiments well, it fails to predict the negative sentiments well. From the confusion matrix above, it is visible for the negative sentiment that it can only predict 1 out of 6 of the negative reviews correctly (17%). Moreover, it even predicted a negative review as a positive review."
   ]
  },
  {
   "cell_type": "code",
   "execution_count": 26,
   "metadata": {
    "execution": {
     "iopub.execute_input": "2020-11-01T03:54:21.917449Z",
     "iopub.status.busy": "2020-11-01T03:54:21.916370Z",
     "iopub.status.idle": "2020-11-01T03:54:21.921074Z",
     "shell.execute_reply": "2020-11-01T03:54:21.920460Z"
    },
    "papermill": {
     "duration": 0.106981,
     "end_time": "2020-11-01T03:54:21.921204",
     "exception": false,
     "start_time": "2020-11-01T03:54:21.814223",
     "status": "completed"
    },
    "tags": []
   },
   "outputs": [
    {
     "name": "stdout",
     "output_type": "stream",
     "text": [
      "Accuracy: 70.0\n",
      "Macro F1-score: 0.4571909571909572\n"
     ]
    }
   ],
   "source": [
    "acc = accuracy_score(y_true,y_pred)*100\n",
    "f1 = f1_score(y_true,y_pred, average='macro')\n",
    "print(\"Accuracy: {}\\nMacro F1-score: {}\".format(acc, f1))"
   ]
  },
  {
   "cell_type": "markdown",
   "metadata": {
    "papermill": {
     "duration": 0.093621,
     "end_time": "2020-11-01T03:54:22.109637",
     "exception": false,
     "start_time": "2020-11-01T03:54:22.016016",
     "status": "completed"
    },
    "tags": []
   },
   "source": [
    "Below is the negative review that is wrongly predicted to be a positive review:"
   ]
  },
  {
   "cell_type": "code",
   "execution_count": 27,
   "metadata": {
    "execution": {
     "iopub.execute_input": "2020-11-01T03:54:22.309336Z",
     "iopub.status.busy": "2020-11-01T03:54:22.308387Z",
     "iopub.status.idle": "2020-11-01T03:54:22.314244Z",
     "shell.execute_reply": "2020-11-01T03:54:22.313550Z"
    },
    "papermill": {
     "duration": 0.106447,
     "end_time": "2020-11-01T03:54:22.314405",
     "exception": false,
     "start_time": "2020-11-01T03:54:22.207958",
     "status": "completed"
    },
    "tags": []
   },
   "outputs": [
    {
     "data": {
      "text/plain": [
       "'I bought it brand new and the phone died after 4 months (we\\'re talking about a phone thats worth more than a $1,000). Lost all the info and images. Took it to Apple, they \"fixed\" it and returned after several days. The fixed phone lasted only 2 months and started restarting non-stop. Will never buy an Apple product again. Read on the internet, there millions of people complaining about Apple products.'"
      ]
     },
     "execution_count": 27,
     "metadata": {},
     "output_type": "execute_result"
    }
   ],
   "source": [
    "data_iphone['Review'][23]"
   ]
  },
  {
   "cell_type": "markdown",
   "metadata": {
    "papermill": {
     "duration": 0.09376,
     "end_time": "2020-11-01T03:54:22.502681",
     "exception": false,
     "start_time": "2020-11-01T03:54:22.408921",
     "status": "completed"
    },
    "tags": []
   },
   "source": [
    "A possible explanation could be due to the informal language of the negative review and the sarcasm that is found in the review. TextBlob, which is more tuned to determining sentiment in more formal texts, therefore predicts the above negative review to be a positive review"
   ]
  },
  {
   "cell_type": "markdown",
   "metadata": {
    "papermill": {
     "duration": 0.093937,
     "end_time": "2020-11-01T03:54:22.690767",
     "exception": false,
     "start_time": "2020-11-01T03:54:22.596830",
     "status": "completed"
    },
    "tags": []
   },
   "source": [
    "## VADER\n",
    "\n",
    "VADER stands for Valence Aware Dictionary and sEntiment Reasoner. It is a exicon and rule-based sentiment analysis tool that is specifically attuned to sentiments expressed in social media. VADER uses a combination of A sentiment lexicon is a list of lexical features (e.g., words) which are labelled according to their semantic orientation as either positive or negative. \n",
    "\n",
    "We iterate through the rows of reviews and used the polarity_scores() method to obtain the polarity indices for each sentence. This method will return four attributes of each sentence, namely “Positive”, “Neutral”, “Negative” and “Compound”. The positive, neutral and negative scores represent the proportion of text in the review that falls in these categories and since these 3 attributes are a proportion of text, they add up to 1 which is a 100 percent.\n",
    "\n",
    " The Compound score is a metric that calculates the sum of all the lexicon ratings which have been normalized between –1 (most extreme negative) and +1 (most extreme positive). \n",
    " \n",
    "| Compound | Sentiment| \n",
    "| -- | -- |\n",
    "| Compound score < -0.05  | Negative | \n",
    "| -0.05 <= Compound score <=0.05   | Neutral   | \n",
    "| Compound score > 0.05   | Positive | \n"
   ]
  },
  {
   "cell_type": "markdown",
   "metadata": {
    "papermill": {
     "duration": 0.093991,
     "end_time": "2020-11-01T03:54:22.879233",
     "exception": false,
     "start_time": "2020-11-01T03:54:22.785242",
     "status": "completed"
    },
    "tags": []
   },
   "source": [
    "VADER analyses sentiments are primarily based on these few points (**How compound score is affected**):\n",
    "\n",
    "1.\tPunctuation\n",
    "The use of exclamation mark (!) increases the magnitude of the intensity. For example, the “The food here is good!” is more intense than “The food here is good.” and the increase in the number of (!) increases the magnitude accordingly.\n",
    "2.\tCapitalization\n",
    "Using upper case letters to emphasize a sentiment-relevant word in the presence of other non-capitalized words, increases the magnitude of the sentiment intensity. For example, “The food here is GREAT!” conveys more intensity than “The food here is great!”\n",
    "3.\tDegree modifiers\n",
    "Degree modifiers include words such as “very” or “less”. They impact the sentiment intensity by either increasing or decreasing the intensity. For example, “The service here is extremely good” is more intense than “The service here is good”, whereas “The service here is marginally good” reduces the intensity.\n",
    "4.\tConjunctions\n",
    "The use of conjunctions like “but” signals a shift in sentiment polarity, with the sentiment of the text following the conjunction being dominant. For example, “The food here is great, but the service is horrible” has mixed sentiment, with the latter half dictating the overall rating.\n",
    "5.\tPreceding Trigrams \n",
    "By examining the trigram preceding a sentiment-laden lexical feature, we can catch nearly 90% of cases where negation flips the polarity of the text. A negated sentence would be “The food here isn’t really all that great.”"
   ]
  },
  {
   "cell_type": "code",
   "execution_count": 28,
   "metadata": {
    "execution": {
     "iopub.execute_input": "2020-11-01T03:54:23.080819Z",
     "iopub.status.busy": "2020-11-01T03:54:23.080010Z",
     "iopub.status.idle": "2020-11-01T03:54:23.426338Z",
     "shell.execute_reply": "2020-11-01T03:54:23.425538Z"
    },
    "papermill": {
     "duration": 0.452711,
     "end_time": "2020-11-01T03:54:23.426480",
     "exception": false,
     "start_time": "2020-11-01T03:54:22.973769",
     "status": "completed"
    },
    "tags": []
   },
   "outputs": [],
   "source": [
    "def VADER(sentence):\n",
    "    VADER_sentence=str(sentence)\n",
    "    VADER_analyser = SentimentIntensityAnalyzer()\n",
    "    \n",
    "    \n",
    "    score=VADER_analyser.polarity_scores(VADER_sentence)\n",
    "    VADER_answer=score['compound']\n",
    "    if(VADER_answer>0.05):\n",
    "        return_rating= 2\n",
    "    elif(VADER_answer<-0.05):\n",
    "        return_rating= 0\n",
    "    else:\n",
    "        return_rating= 1\n",
    "    return return_rating\n",
    "    \n",
    "\n",
    "data_iphone['VADER']=data_iphone['Review'].map(lambda s:VADER(s)) "
   ]
  },
  {
   "cell_type": "code",
   "execution_count": 29,
   "metadata": {
    "execution": {
     "iopub.execute_input": "2020-11-01T03:54:23.631200Z",
     "iopub.status.busy": "2020-11-01T03:54:23.625375Z",
     "iopub.status.idle": "2020-11-01T03:54:24.033995Z",
     "shell.execute_reply": "2020-11-01T03:54:24.033211Z"
    },
    "papermill": {
     "duration": 0.513247,
     "end_time": "2020-11-01T03:54:24.034121",
     "exception": false,
     "start_time": "2020-11-01T03:54:23.520874",
     "status": "completed"
    },
    "tags": []
   },
   "outputs": [
    {
     "data": {
      "image/png": "[encoded data removed]",
      "text/plain": [
       "<Figure size 432x288 with 2 Axes>"
      ]
     },
     "metadata": {
      "needs_background": "light"
     },
     "output_type": "display_data"
    },
    {
     "data": {
      "image/png": "[encoded data removed]",
      "text/plain": [
       "<Figure size 432x288 with 2 Axes>"
      ]
     },
     "metadata": {
      "needs_background": "light"
     },
     "output_type": "display_data"
    }
   ],
   "source": [
    "y_pred=pd.Series(data_iphone['VADER']).array\n",
    "textblob=[(\"VADER: Normalised Confusion Matrix\", True),(\"VADER: Confusion Matrix without normalisation\", False)]\n",
    "for Title,normalise in textblob:\n",
    "    disp=plot_confusion_matrix(y_true,y_pred,Title, classes=[0, 1, 2],normalize=normalise,cmap=plt.cm.YlOrBr)"
   ]
  },
  {
   "cell_type": "markdown",
   "metadata": {
    "papermill": {
     "duration": 0.119269,
     "end_time": "2020-11-01T03:54:24.256461",
     "exception": false,
     "start_time": "2020-11-01T03:54:24.137192",
     "status": "completed"
    },
    "tags": []
   },
   "source": [
    "***Observations and remarks:***\n",
    "\n",
    "VADER predictions more spread out compared to TextBlob. For example, for positive sentiment texts, it is wrongly misclassified as either neutral or positive, which is not present in TextBlob where positive sentiment texts have only been misclassified as neutral texts. The greater spread could be largely attributed to the fact that it assigns very low or very high compound scores to text that has a lot of capitalization, punctuation, repetition and emojis.\n",
    "VADER is also able to predict the negative review stated in figure 8 correctly. This may be due to the fact that VADER is more tuned to informal text. For example, in the negative review, the customer emphasizes his dissatisfaction through the use of sarcasm by having words in brackets (e.g. Took it to apple, they “fixed” it) and having degree modifiers (e.g. Will never buy an apple product again). These points are taken into account by VADER."
   ]
  },
  {
   "cell_type": "code",
   "execution_count": 30,
   "metadata": {
    "execution": {
     "iopub.execute_input": "2020-11-01T03:54:24.463353Z",
     "iopub.status.busy": "2020-11-01T03:54:24.462201Z",
     "iopub.status.idle": "2020-11-01T03:54:24.468206Z",
     "shell.execute_reply": "2020-11-01T03:54:24.467265Z"
    },
    "papermill": {
     "duration": 0.11414,
     "end_time": "2020-11-01T03:54:24.468400",
     "exception": false,
     "start_time": "2020-11-01T03:54:24.354260",
     "status": "completed"
    },
    "tags": []
   },
   "outputs": [
    {
     "name": "stdout",
     "output_type": "stream",
     "text": [
      "Accuracy: 73.33333333333333\n",
      "Macro F1-score: 0.549084249084249\n"
     ]
    }
   ],
   "source": [
    "acc = accuracy_score(y_true,y_pred)*100\n",
    "f1 = f1_score(y_true,y_pred, average='macro')\n",
    "print(\"Accuracy: {}\\nMacro F1-score: {}\".format(acc, f1))"
   ]
  },
  {
   "cell_type": "markdown",
   "metadata": {
    "papermill": {
     "duration": 0.096701,
     "end_time": "2020-11-01T03:54:24.665665",
     "exception": false,
     "start_time": "2020-11-01T03:54:24.568964",
     "status": "completed"
    },
    "tags": []
   },
   "source": [
    "## Comparison between TextBlob and VADER\n",
    "\n",
    "Since we are dealing with an imbalanced dataset, we decided to use macro-F1 score in addition to accuracy to determine effectiveness of the algorithm. The macro-F1 score is the harmonic mean of the macro-averaged precision and recall.\n",
    "Precision measures the number of true positives out of the samples predicted as positives (TP+FP). It shows the probability for correct detection of positive class. In the other hand, recall measures the number of true positives out of the samples predicted as true positives and false negative (TP+FN). It shows how accurate the model can determine the class label of each sample data. Both precision and recall can be used to plot Precision-Recall Curve. This PR curve is recommended for highly skewed domains, which refers to the imbalanced dataset.\n",
    "We will also be using macro-F1 to assess the quality of problems, that have multiple binary labels or multiple classes. \n",
    "\n",
    "Below shows the accuracy and macro-F1 score of both TextBlob and VADER:\n",
    "\n",
    "| Classifier| Accuracy| Macro-F1| \n",
    "| -- | -- |-- |\n",
    "| TextBlob  | 70% | 46% | \n",
    "| VADER  | 74%  | 55%  | "
   ]
  },
  {
   "cell_type": "markdown",
   "metadata": {
    "papermill": {
     "duration": 0.097453,
     "end_time": "2020-11-01T03:54:24.861181",
     "exception": false,
     "start_time": "2020-11-01T03:54:24.763728",
     "status": "completed"
    },
    "tags": []
   },
   "source": [
    "VADER performs better than TextBlob in both accuracy and Macro-F1 score. This could stem from the fact that TextBlob is better suited for sentiments in social media texts which are informal whereas TextBlob is better suited for formal texts.\n",
    "\n",
    "VADER can detect slangs and uses factors such as punctuation and capitalisation in its determination of sentiments. This proved to be more effective in respective to the context of our dataset which is online reviews and hence largely informal and contain a complete mix of variety of text. In contrast, TextBlob is built upon NTLK and returns 0 if the sentence does not contain any polarity in the NTLK training set. Therefore, this may be the disadvantages for online reviews where there may be spelling errors and slangs that the TextBlob algorithm could not understand. The combination of these two factors resulted in VADER performing better than TextBlob.\n",
    "\n",
    "However, VADER also lacks in the fact that it only cares about individual words and completely ignores the context in which the word is used. For example, “the party was savage” will be negative when considered by any token-based algorithms. Therefore, even though VADER is better than TextBlob, it still not a very good way to determine sentiment in text due to this big limitation that it has.\n",
    "\n",
    "## Improvements\n",
    "\n",
    "The effectiveness of the application to correctly classify the sentiments of the text is largely limited by the unsupervised learning approach used. This is because even though unsupervised algorithms like TextBlob and VADER are easy to use especially in our case where there is a small number of data, it is quite generic due to its already built-in rules. A supervised approach is an evolutionary step that is better in helping us classify the sentiments of the text better.\n",
    "Therefore, if there is a large dataset available, we can use a supervised learning approach such as logistic regression and support vector machines to better analyze the text and labelled data of iPhone reviews."
   ]
  }
 ],
 "metadata": {
  "kernelspec": {
   "display_name": "Python 3",
   "language": "python",
   "name": "python3"
  },
  "language_info": {
   "codemirror_mode": {
    "name": "ipython",
    "version": 3
   },
   "file_extension": ".py",
   "mimetype": "text/x-python",
   "name": "python",
   "nbconvert_exporter": "python",
   "pygments_lexer": "ipython3",
   "version": "3.7.6"
  },
  "papermill": {
   "duration": 198.135642,
   "end_time": "2020-11-01T03:54:26.027421",
   "environment_variables": {},
   "exception": null,
   "input_path": "__notebook__.ipynb",
   "output_path": "__notebook__.ipynb",
   "parameters": {},
   "start_time": "2020-11-01T03:51:07.891779",
   "version": "2.1.0"
  }
 },
 "nbformat": 4,
 "nbformat_minor": 4
}
